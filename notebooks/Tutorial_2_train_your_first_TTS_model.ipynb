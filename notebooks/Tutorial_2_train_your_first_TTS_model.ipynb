{
  "cells": [
    {
      "cell_type": "markdown",
      "id": "f79d99ef",
      "metadata": {
        "id": "f79d99ef"
      },
      "source": [
        "# Train your first 🐸 TTS model 💫\n",
        "\n",
        "### 👋 Hello and welcome to Coqui (🐸) TTS\n",
        "\n",
        "The goal of this notebook is to show you a **typical workflow** for **training** and **testing** a TTS model with 🐸.\n",
        "\n",
        "Let's train a very small model on a very small amount of data so we can iterate quickly.\n",
        "\n",
        "In this notebook, we will:\n",
        "\n",
        "1. Download data and format it for 🐸 TTS.\n",
        "2. Configure the training and testing runs.\n",
        "3. Train a new model.\n",
        "4. Test the model and display its performance.\n",
        "\n",
        "So, let's jump right in!\n"
      ]
    },
    {
      "cell_type": "code",
      "source": [
        "from google.colab import drive\n",
        "drive.mount('/content/drive')"
      ],
      "metadata": {
        "id": "rMBeIe1VEKaA",
        "outputId": "35ba94bd-e1bd-4b7a-b2ba-e6c480f44d14",
        "colab": {
          "base_uri": "https://localhost:8080/"
        }
      },
      "id": "rMBeIe1VEKaA",
      "execution_count": 1,
      "outputs": [
        {
          "output_type": "stream",
          "name": "stdout",
          "text": [
            "Mounted at /content/drive\n"
          ]
        }
      ]
    },
    {
      "cell_type": "code",
      "execution_count": 3,
      "id": "fa2aec78",
      "metadata": {
        "collapsed": true,
        "colab": {
          "base_uri": "https://localhost:8080/"
        },
        "id": "fa2aec78",
        "outputId": "12438dbd-8b36-40c5-ec60-d21909ebc490"
      },
      "outputs": [
        {
          "output_type": "stream",
          "name": "stdout",
          "text": [
            "Requirement already satisfied: pip in /usr/local/lib/python3.11/dist-packages (24.1.2)\n",
            "Collecting pip\n",
            "  Downloading pip-25.0.1-py3-none-any.whl.metadata (3.7 kB)\n",
            "Downloading pip-25.0.1-py3-none-any.whl (1.8 MB)\n",
            "\u001b[2K   \u001b[90m━━━━━━━━━━━━━━━━━━━━━━━━━━━━━━━━━━━━━━━━\u001b[0m \u001b[32m1.8/1.8 MB\u001b[0m \u001b[31m28.3 MB/s\u001b[0m eta \u001b[36m0:00:00\u001b[0m\n",
            "\u001b[?25hInstalling collected packages: pip\n",
            "  Attempting uninstall: pip\n",
            "    Found existing installation: pip 24.1.2\n",
            "    Uninstalling pip-24.1.2:\n",
            "      Successfully uninstalled pip-24.1.2\n",
            "Successfully installed pip-25.0.1\n",
            "Collecting TTS\n",
            "  Downloading TTS-0.22.0-cp311-cp311-manylinux1_x86_64.whl.metadata (21 kB)\n",
            "Requirement already satisfied: cython>=0.29.30 in /usr/local/lib/python3.11/dist-packages (from TTS) (3.0.12)\n",
            "Requirement already satisfied: scipy>=1.11.2 in /usr/local/lib/python3.11/dist-packages (from TTS) (1.13.1)\n",
            "Requirement already satisfied: torch>=2.1 in /usr/local/lib/python3.11/dist-packages (from TTS) (2.5.1+cu124)\n",
            "Requirement already satisfied: torchaudio in /usr/local/lib/python3.11/dist-packages (from TTS) (2.5.1+cu124)\n",
            "Requirement already satisfied: soundfile>=0.12.0 in /usr/local/lib/python3.11/dist-packages (from TTS) (0.13.1)\n",
            "Requirement already satisfied: librosa>=0.10.0 in /usr/local/lib/python3.11/dist-packages (from TTS) (0.10.2.post1)\n",
            "Requirement already satisfied: scikit-learn>=1.3.0 in /usr/local/lib/python3.11/dist-packages (from TTS) (1.6.1)\n",
            "Requirement already satisfied: inflect>=5.6.0 in /usr/local/lib/python3.11/dist-packages (from TTS) (7.5.0)\n",
            "Requirement already satisfied: tqdm>=4.64.1 in /usr/local/lib/python3.11/dist-packages (from TTS) (4.67.1)\n",
            "Collecting anyascii>=0.3.0 (from TTS)\n",
            "  Downloading anyascii-0.3.2-py3-none-any.whl.metadata (1.5 kB)\n",
            "Requirement already satisfied: pyyaml>=6.0 in /usr/local/lib/python3.11/dist-packages (from TTS) (6.0.2)\n",
            "Requirement already satisfied: fsspec>=2023.6.0 in /usr/local/lib/python3.11/dist-packages (from TTS) (2024.10.0)\n",
            "Requirement already satisfied: aiohttp>=3.8.1 in /usr/local/lib/python3.11/dist-packages (from TTS) (3.11.12)\n",
            "Requirement already satisfied: packaging>=23.1 in /usr/local/lib/python3.11/dist-packages (from TTS) (24.2)\n",
            "Requirement already satisfied: flask>=2.0.1 in /usr/local/lib/python3.11/dist-packages (from TTS) (3.1.0)\n",
            "Collecting pysbd>=0.3.4 (from TTS)\n",
            "  Downloading pysbd-0.3.4-py3-none-any.whl.metadata (6.1 kB)\n",
            "Collecting umap-learn>=0.5.1 (from TTS)\n",
            "  Downloading umap_learn-0.5.7-py3-none-any.whl.metadata (21 kB)\n",
            "Collecting pandas<2.0,>=1.4 (from TTS)\n",
            "  Downloading pandas-1.5.3-cp311-cp311-manylinux_2_17_x86_64.manylinux2014_x86_64.whl.metadata (11 kB)\n",
            "Requirement already satisfied: matplotlib>=3.7.0 in /usr/local/lib/python3.11/dist-packages (from TTS) (3.10.0)\n",
            "Collecting trainer>=0.0.32 (from TTS)\n",
            "  Downloading trainer-0.0.36-py3-none-any.whl.metadata (8.1 kB)\n",
            "Collecting coqpit>=0.0.16 (from TTS)\n",
            "  Downloading coqpit-0.0.17-py3-none-any.whl.metadata (11 kB)\n",
            "Requirement already satisfied: jieba in /usr/local/lib/python3.11/dist-packages (from TTS) (0.42.1)\n",
            "Collecting pypinyin (from TTS)\n",
            "  Downloading pypinyin-0.53.0-py2.py3-none-any.whl.metadata (12 kB)\n",
            "Collecting hangul-romanize (from TTS)\n",
            "  Downloading hangul_romanize-0.1.0-py3-none-any.whl.metadata (1.2 kB)\n",
            "Collecting gruut==2.2.3 (from gruut[de,es,fr]==2.2.3->TTS)\n",
            "  Downloading gruut-2.2.3.tar.gz (73 kB)\n",
            "  Preparing metadata (setup.py) ... \u001b[?25l\u001b[?25hdone\n",
            "Collecting jamo (from TTS)\n",
            "  Downloading jamo-0.4.1-py3-none-any.whl.metadata (2.3 kB)\n",
            "Requirement already satisfied: nltk in /usr/local/lib/python3.11/dist-packages (from TTS) (3.9.1)\n",
            "Collecting g2pkk>=0.1.1 (from TTS)\n",
            "  Downloading g2pkk-0.1.2-py3-none-any.whl.metadata (2.0 kB)\n",
            "Collecting bangla (from TTS)\n",
            "  Downloading bangla-0.0.2-py2.py3-none-any.whl.metadata (4.5 kB)\n",
            "Collecting bnnumerizer (from TTS)\n",
            "  Downloading bnnumerizer-0.0.2.tar.gz (4.7 kB)\n",
            "  Preparing metadata (setup.py) ... \u001b[?25l\u001b[?25hdone\n",
            "Collecting bnunicodenormalizer (from TTS)\n",
            "  Downloading bnunicodenormalizer-0.1.7-py3-none-any.whl.metadata (22 kB)\n",
            "Requirement already satisfied: einops>=0.6.0 in /usr/local/lib/python3.11/dist-packages (from TTS) (0.8.1)\n",
            "Requirement already satisfied: transformers>=4.33.0 in /usr/local/lib/python3.11/dist-packages (from TTS) (4.48.3)\n",
            "Collecting encodec>=0.1.1 (from TTS)\n",
            "  Downloading encodec-0.1.1.tar.gz (3.7 MB)\n",
            "\u001b[2K     \u001b[90m━━━━━━━━━━━━━━━━━━━━━━━━━━━━━━━━━━━━━━━━\u001b[0m \u001b[32m3.7/3.7 MB\u001b[0m \u001b[31m73.5 MB/s\u001b[0m eta \u001b[36m0:00:00\u001b[0m\n",
            "\u001b[?25h  Preparing metadata (setup.py) ... \u001b[?25l\u001b[?25hdone\n",
            "Collecting unidecode>=1.3.2 (from TTS)\n",
            "  Downloading Unidecode-1.3.8-py3-none-any.whl.metadata (13 kB)\n",
            "Collecting num2words (from TTS)\n",
            "  Downloading num2words-0.5.14-py3-none-any.whl.metadata (13 kB)\n",
            "Requirement already satisfied: spacy>=3 in /usr/local/lib/python3.11/dist-packages (from spacy[ja]>=3->TTS) (3.7.5)\n",
            "Requirement already satisfied: numpy>=1.24.3 in /usr/local/lib/python3.11/dist-packages (from TTS) (1.26.4)\n",
            "Requirement already satisfied: numba>=0.57.0 in /usr/local/lib/python3.11/dist-packages (from TTS) (0.61.0)\n",
            "Requirement already satisfied: Babel<3.0.0,>=2.8.0 in /usr/local/lib/python3.11/dist-packages (from gruut==2.2.3->gruut[de,es,fr]==2.2.3->TTS) (2.17.0)\n",
            "Collecting dateparser~=1.1.0 (from gruut==2.2.3->gruut[de,es,fr]==2.2.3->TTS)\n",
            "  Downloading dateparser-1.1.8-py2.py3-none-any.whl.metadata (27 kB)\n",
            "Collecting gruut-ipa<1.0,>=0.12.0 (from gruut==2.2.3->gruut[de,es,fr]==2.2.3->TTS)\n",
            "  Downloading gruut-ipa-0.13.0.tar.gz (101 kB)\n",
            "  Preparing metadata (setup.py) ... \u001b[?25l\u001b[?25hdone\n",
            "Collecting gruut_lang_en~=2.0.0 (from gruut==2.2.3->gruut[de,es,fr]==2.2.3->TTS)\n",
            "  Downloading gruut_lang_en-2.0.1.tar.gz (15.3 MB)\n",
            "\u001b[2K     \u001b[90m━━━━━━━━━━━━━━━━━━━━━━━━━━━━━━━━━━━━━━━━\u001b[0m \u001b[32m15.3/15.3 MB\u001b[0m \u001b[31m133.1 MB/s\u001b[0m eta \u001b[36m0:00:00\u001b[0m\n",
            "\u001b[?25h  Preparing metadata (setup.py) ... \u001b[?25l\u001b[?25hdone\n",
            "Collecting jsonlines~=1.2.0 (from gruut==2.2.3->gruut[de,es,fr]==2.2.3->TTS)\n",
            "  Downloading jsonlines-1.2.0-py2.py3-none-any.whl.metadata (1.3 kB)\n",
            "Collecting networkx<3.0.0,>=2.5.0 (from gruut==2.2.3->gruut[de,es,fr]==2.2.3->TTS)\n",
            "  Downloading networkx-2.8.8-py3-none-any.whl.metadata (5.1 kB)\n",
            "Collecting python-crfsuite~=0.9.7 (from gruut==2.2.3->gruut[de,es,fr]==2.2.3->TTS)\n",
            "  Downloading python_crfsuite-0.9.11-cp311-cp311-manylinux_2_17_x86_64.manylinux2014_x86_64.whl.metadata (4.3 kB)\n",
            "Collecting gruut_lang_de~=2.0.0 (from gruut[de,es,fr]==2.2.3->TTS)\n",
            "  Downloading gruut_lang_de-2.0.1.tar.gz (18.1 MB)\n",
            "\u001b[2K     \u001b[90m━━━━━━━━━━━━━━━━━━━━━━━━━━━━━━━━━━━━━━━━\u001b[0m \u001b[32m18.1/18.1 MB\u001b[0m \u001b[31m148.1 MB/s\u001b[0m eta \u001b[36m0:00:00\u001b[0m\n",
            "\u001b[?25h  Preparing metadata (setup.py) ... \u001b[?25l\u001b[?25hdone\n",
            "Collecting gruut_lang_es~=2.0.0 (from gruut[de,es,fr]==2.2.3->TTS)\n",
            "  Downloading gruut_lang_es-2.0.1.tar.gz (31.4 MB)\n",
            "\u001b[2K     \u001b[90m━━━━━━━━━━━━━━━━━━━━━━━━━━━━━━━━━━━━━━━━\u001b[0m \u001b[32m31.4/31.4 MB\u001b[0m \u001b[31m47.0 MB/s\u001b[0m eta \u001b[36m0:00:00\u001b[0m\n",
            "\u001b[?25h  Preparing metadata (setup.py) ... \u001b[?25l\u001b[?25hdone\n",
            "Collecting gruut_lang_fr~=2.0.0 (from gruut[de,es,fr]==2.2.3->TTS)\n",
            "  Downloading gruut_lang_fr-2.0.2.tar.gz (10.9 MB)\n",
            "\u001b[2K     \u001b[90m━━━━━━━━━━━━━━━━━━━━━━━━━━━━━━━━━━━━━━━━\u001b[0m \u001b[32m10.9/10.9 MB\u001b[0m \u001b[31m150.3 MB/s\u001b[0m eta \u001b[36m0:00:00\u001b[0m\n",
            "\u001b[?25h  Preparing metadata (setup.py) ... \u001b[?25l\u001b[?25hdone\n",
            "Requirement already satisfied: aiohappyeyeballs>=2.3.0 in /usr/local/lib/python3.11/dist-packages (from aiohttp>=3.8.1->TTS) (2.4.6)\n",
            "Requirement already satisfied: aiosignal>=1.1.2 in /usr/local/lib/python3.11/dist-packages (from aiohttp>=3.8.1->TTS) (1.3.2)\n",
            "Requirement already satisfied: attrs>=17.3.0 in /usr/local/lib/python3.11/dist-packages (from aiohttp>=3.8.1->TTS) (25.1.0)\n",
            "Requirement already satisfied: frozenlist>=1.1.1 in /usr/local/lib/python3.11/dist-packages (from aiohttp>=3.8.1->TTS) (1.5.0)\n",
            "Requirement already satisfied: multidict<7.0,>=4.5 in /usr/local/lib/python3.11/dist-packages (from aiohttp>=3.8.1->TTS) (6.1.0)\n",
            "Requirement already satisfied: propcache>=0.2.0 in /usr/local/lib/python3.11/dist-packages (from aiohttp>=3.8.1->TTS) (0.2.1)\n",
            "Requirement already satisfied: yarl<2.0,>=1.17.0 in /usr/local/lib/python3.11/dist-packages (from aiohttp>=3.8.1->TTS) (1.18.3)\n",
            "Requirement already satisfied: Werkzeug>=3.1 in /usr/local/lib/python3.11/dist-packages (from flask>=2.0.1->TTS) (3.1.3)\n",
            "Requirement already satisfied: Jinja2>=3.1.2 in /usr/local/lib/python3.11/dist-packages (from flask>=2.0.1->TTS) (3.1.5)\n",
            "Requirement already satisfied: itsdangerous>=2.2 in /usr/local/lib/python3.11/dist-packages (from flask>=2.0.1->TTS) (2.2.0)\n",
            "Requirement already satisfied: click>=8.1.3 in /usr/local/lib/python3.11/dist-packages (from flask>=2.0.1->TTS) (8.1.8)\n",
            "Requirement already satisfied: blinker>=1.9 in /usr/local/lib/python3.11/dist-packages (from flask>=2.0.1->TTS) (1.9.0)\n",
            "Requirement already satisfied: more_itertools>=8.5.0 in /usr/local/lib/python3.11/dist-packages (from inflect>=5.6.0->TTS) (10.6.0)\n",
            "Requirement already satisfied: typeguard>=4.0.1 in /usr/local/lib/python3.11/dist-packages (from inflect>=5.6.0->TTS) (4.4.1)\n",
            "Requirement already satisfied: audioread>=2.1.9 in /usr/local/lib/python3.11/dist-packages (from librosa>=0.10.0->TTS) (3.0.1)\n",
            "Requirement already satisfied: joblib>=0.14 in /usr/local/lib/python3.11/dist-packages (from librosa>=0.10.0->TTS) (1.4.2)\n",
            "Requirement already satisfied: decorator>=4.3.0 in /usr/local/lib/python3.11/dist-packages (from librosa>=0.10.0->TTS) (4.4.2)\n",
            "Requirement already satisfied: pooch>=1.1 in /usr/local/lib/python3.11/dist-packages (from librosa>=0.10.0->TTS) (1.8.2)\n",
            "Requirement already satisfied: soxr>=0.3.2 in /usr/local/lib/python3.11/dist-packages (from librosa>=0.10.0->TTS) (0.5.0.post1)\n",
            "Requirement already satisfied: typing-extensions>=4.1.1 in /usr/local/lib/python3.11/dist-packages (from librosa>=0.10.0->TTS) (4.12.2)\n",
            "Requirement already satisfied: lazy-loader>=0.1 in /usr/local/lib/python3.11/dist-packages (from librosa>=0.10.0->TTS) (0.4)\n",
            "Requirement already satisfied: msgpack>=1.0 in /usr/local/lib/python3.11/dist-packages (from librosa>=0.10.0->TTS) (1.1.0)\n",
            "Requirement already satisfied: contourpy>=1.0.1 in /usr/local/lib/python3.11/dist-packages (from matplotlib>=3.7.0->TTS) (1.3.1)\n",
            "Requirement already satisfied: cycler>=0.10 in /usr/local/lib/python3.11/dist-packages (from matplotlib>=3.7.0->TTS) (0.12.1)\n",
            "Requirement already satisfied: fonttools>=4.22.0 in /usr/local/lib/python3.11/dist-packages (from matplotlib>=3.7.0->TTS) (4.56.0)\n",
            "Requirement already satisfied: kiwisolver>=1.3.1 in /usr/local/lib/python3.11/dist-packages (from matplotlib>=3.7.0->TTS) (1.4.8)\n",
            "Requirement already satisfied: pillow>=8 in /usr/local/lib/python3.11/dist-packages (from matplotlib>=3.7.0->TTS) (11.1.0)\n",
            "Requirement already satisfied: pyparsing>=2.3.1 in /usr/local/lib/python3.11/dist-packages (from matplotlib>=3.7.0->TTS) (3.2.1)\n",
            "Requirement already satisfied: python-dateutil>=2.7 in /usr/local/lib/python3.11/dist-packages (from matplotlib>=3.7.0->TTS) (2.8.2)\n",
            "Collecting docopt>=0.6.2 (from num2words->TTS)\n",
            "  Downloading docopt-0.6.2.tar.gz (25 kB)\n",
            "  Preparing metadata (setup.py) ... \u001b[?25l\u001b[?25hdone\n",
            "Requirement already satisfied: llvmlite<0.45,>=0.44.0dev0 in /usr/local/lib/python3.11/dist-packages (from numba>=0.57.0->TTS) (0.44.0)\n",
            "Requirement already satisfied: pytz>=2020.1 in /usr/local/lib/python3.11/dist-packages (from pandas<2.0,>=1.4->TTS) (2025.1)\n",
            "Requirement already satisfied: threadpoolctl>=3.1.0 in /usr/local/lib/python3.11/dist-packages (from scikit-learn>=1.3.0->TTS) (3.5.0)\n",
            "Requirement already satisfied: cffi>=1.0 in /usr/local/lib/python3.11/dist-packages (from soundfile>=0.12.0->TTS) (1.17.1)\n",
            "Requirement already satisfied: spacy-legacy<3.1.0,>=3.0.11 in /usr/local/lib/python3.11/dist-packages (from spacy>=3->spacy[ja]>=3->TTS) (3.0.12)\n",
            "Requirement already satisfied: spacy-loggers<2.0.0,>=1.0.0 in /usr/local/lib/python3.11/dist-packages (from spacy>=3->spacy[ja]>=3->TTS) (1.0.5)\n",
            "Requirement already satisfied: murmurhash<1.1.0,>=0.28.0 in /usr/local/lib/python3.11/dist-packages (from spacy>=3->spacy[ja]>=3->TTS) (1.0.12)\n",
            "Requirement already satisfied: cymem<2.1.0,>=2.0.2 in /usr/local/lib/python3.11/dist-packages (from spacy>=3->spacy[ja]>=3->TTS) (2.0.11)\n",
            "Requirement already satisfied: preshed<3.1.0,>=3.0.2 in /usr/local/lib/python3.11/dist-packages (from spacy>=3->spacy[ja]>=3->TTS) (3.0.9)\n",
            "Requirement already satisfied: thinc<8.3.0,>=8.2.2 in /usr/local/lib/python3.11/dist-packages (from spacy>=3->spacy[ja]>=3->TTS) (8.2.5)\n",
            "Requirement already satisfied: wasabi<1.2.0,>=0.9.1 in /usr/local/lib/python3.11/dist-packages (from spacy>=3->spacy[ja]>=3->TTS) (1.1.3)\n",
            "Requirement already satisfied: srsly<3.0.0,>=2.4.3 in /usr/local/lib/python3.11/dist-packages (from spacy>=3->spacy[ja]>=3->TTS) (2.5.1)\n",
            "Requirement already satisfied: catalogue<2.1.0,>=2.0.6 in /usr/local/lib/python3.11/dist-packages (from spacy>=3->spacy[ja]>=3->TTS) (2.0.10)\n",
            "Requirement already satisfied: weasel<0.5.0,>=0.1.0 in /usr/local/lib/python3.11/dist-packages (from spacy>=3->spacy[ja]>=3->TTS) (0.4.1)\n",
            "Requirement already satisfied: typer<1.0.0,>=0.3.0 in /usr/local/lib/python3.11/dist-packages (from spacy>=3->spacy[ja]>=3->TTS) (0.15.1)\n",
            "Requirement already satisfied: requests<3.0.0,>=2.13.0 in /usr/local/lib/python3.11/dist-packages (from spacy>=3->spacy[ja]>=3->TTS) (2.32.3)\n",
            "Requirement already satisfied: pydantic!=1.8,!=1.8.1,<3.0.0,>=1.7.4 in /usr/local/lib/python3.11/dist-packages (from spacy>=3->spacy[ja]>=3->TTS) (2.10.6)\n",
            "Requirement already satisfied: setuptools in /usr/local/lib/python3.11/dist-packages (from spacy>=3->spacy[ja]>=3->TTS) (75.1.0)\n",
            "Requirement already satisfied: langcodes<4.0.0,>=3.2.0 in /usr/local/lib/python3.11/dist-packages (from spacy>=3->spacy[ja]>=3->TTS) (3.5.0)\n",
            "Collecting sudachipy!=0.6.1,>=0.5.2 (from spacy[ja]>=3->TTS)\n",
            "  Downloading SudachiPy-0.6.10-cp311-cp311-manylinux_2_17_x86_64.manylinux2014_x86_64.whl.metadata (12 kB)\n",
            "Collecting sudachidict-core>=20211220 (from spacy[ja]>=3->TTS)\n",
            "  Downloading SudachiDict_core-20250129-py3-none-any.whl.metadata (2.5 kB)\n",
            "Requirement already satisfied: filelock in /usr/local/lib/python3.11/dist-packages (from torch>=2.1->TTS) (3.17.0)\n",
            "Collecting nvidia-cuda-nvrtc-cu12==12.4.127 (from torch>=2.1->TTS)\n",
            "  Downloading nvidia_cuda_nvrtc_cu12-12.4.127-py3-none-manylinux2014_x86_64.whl.metadata (1.5 kB)\n",
            "Collecting nvidia-cuda-runtime-cu12==12.4.127 (from torch>=2.1->TTS)\n",
            "  Downloading nvidia_cuda_runtime_cu12-12.4.127-py3-none-manylinux2014_x86_64.whl.metadata (1.5 kB)\n",
            "Collecting nvidia-cuda-cupti-cu12==12.4.127 (from torch>=2.1->TTS)\n",
            "  Downloading nvidia_cuda_cupti_cu12-12.4.127-py3-none-manylinux2014_x86_64.whl.metadata (1.6 kB)\n",
            "Collecting nvidia-cudnn-cu12==9.1.0.70 (from torch>=2.1->TTS)\n",
            "  Downloading nvidia_cudnn_cu12-9.1.0.70-py3-none-manylinux2014_x86_64.whl.metadata (1.6 kB)\n",
            "Collecting nvidia-cublas-cu12==12.4.5.8 (from torch>=2.1->TTS)\n",
            "  Downloading nvidia_cublas_cu12-12.4.5.8-py3-none-manylinux2014_x86_64.whl.metadata (1.5 kB)\n",
            "Collecting nvidia-cufft-cu12==11.2.1.3 (from torch>=2.1->TTS)\n",
            "  Downloading nvidia_cufft_cu12-11.2.1.3-py3-none-manylinux2014_x86_64.whl.metadata (1.5 kB)\n",
            "Collecting nvidia-curand-cu12==10.3.5.147 (from torch>=2.1->TTS)\n",
            "  Downloading nvidia_curand_cu12-10.3.5.147-py3-none-manylinux2014_x86_64.whl.metadata (1.5 kB)\n",
            "Collecting nvidia-cusolver-cu12==11.6.1.9 (from torch>=2.1->TTS)\n",
            "  Downloading nvidia_cusolver_cu12-11.6.1.9-py3-none-manylinux2014_x86_64.whl.metadata (1.6 kB)\n",
            "Collecting nvidia-cusparse-cu12==12.3.1.170 (from torch>=2.1->TTS)\n",
            "  Downloading nvidia_cusparse_cu12-12.3.1.170-py3-none-manylinux2014_x86_64.whl.metadata (1.6 kB)\n",
            "Requirement already satisfied: nvidia-nccl-cu12==2.21.5 in /usr/local/lib/python3.11/dist-packages (from torch>=2.1->TTS) (2.21.5)\n",
            "Requirement already satisfied: nvidia-nvtx-cu12==12.4.127 in /usr/local/lib/python3.11/dist-packages (from torch>=2.1->TTS) (12.4.127)\n",
            "Collecting nvidia-nvjitlink-cu12==12.4.127 (from torch>=2.1->TTS)\n",
            "  Downloading nvidia_nvjitlink_cu12-12.4.127-py3-none-manylinux2014_x86_64.whl.metadata (1.5 kB)\n",
            "Requirement already satisfied: triton==3.1.0 in /usr/local/lib/python3.11/dist-packages (from torch>=2.1->TTS) (3.1.0)\n",
            "Requirement already satisfied: sympy==1.13.1 in /usr/local/lib/python3.11/dist-packages (from torch>=2.1->TTS) (1.13.1)\n",
            "Requirement already satisfied: mpmath<1.4,>=1.1.0 in /usr/local/lib/python3.11/dist-packages (from sympy==1.13.1->torch>=2.1->TTS) (1.3.0)\n",
            "Requirement already satisfied: psutil in /usr/local/lib/python3.11/dist-packages (from trainer>=0.0.32->TTS) (5.9.5)\n",
            "Requirement already satisfied: tensorboard in /usr/local/lib/python3.11/dist-packages (from trainer>=0.0.32->TTS) (2.18.0)\n",
            "Requirement already satisfied: huggingface-hub<1.0,>=0.24.0 in /usr/local/lib/python3.11/dist-packages (from transformers>=4.33.0->TTS) (0.28.1)\n",
            "Requirement already satisfied: regex!=2019.12.17 in /usr/local/lib/python3.11/dist-packages (from transformers>=4.33.0->TTS) (2024.11.6)\n",
            "Requirement already satisfied: tokenizers<0.22,>=0.21 in /usr/local/lib/python3.11/dist-packages (from transformers>=4.33.0->TTS) (0.21.0)\n",
            "Requirement already satisfied: safetensors>=0.4.1 in /usr/local/lib/python3.11/dist-packages (from transformers>=4.33.0->TTS) (0.5.2)\n",
            "Collecting pynndescent>=0.5 (from umap-learn>=0.5.1->TTS)\n",
            "  Downloading pynndescent-0.5.13-py3-none-any.whl.metadata (6.8 kB)\n",
            "Requirement already satisfied: pycparser in /usr/local/lib/python3.11/dist-packages (from cffi>=1.0->soundfile>=0.12.0->TTS) (2.22)\n",
            "Requirement already satisfied: tzlocal in /usr/local/lib/python3.11/dist-packages (from dateparser~=1.1.0->gruut==2.2.3->gruut[de,es,fr]==2.2.3->TTS) (5.2)\n",
            "Requirement already satisfied: MarkupSafe>=2.0 in /usr/local/lib/python3.11/dist-packages (from Jinja2>=3.1.2->flask>=2.0.1->TTS) (3.0.2)\n",
            "Requirement already satisfied: six in /usr/local/lib/python3.11/dist-packages (from jsonlines~=1.2.0->gruut==2.2.3->gruut[de,es,fr]==2.2.3->TTS) (1.17.0)\n",
            "Requirement already satisfied: language-data>=1.2 in /usr/local/lib/python3.11/dist-packages (from langcodes<4.0.0,>=3.2.0->spacy>=3->spacy[ja]>=3->TTS) (1.3.0)\n",
            "Requirement already satisfied: platformdirs>=2.5.0 in /usr/local/lib/python3.11/dist-packages (from pooch>=1.1->librosa>=0.10.0->TTS) (4.3.6)\n",
            "Requirement already satisfied: annotated-types>=0.6.0 in /usr/local/lib/python3.11/dist-packages (from pydantic!=1.8,!=1.8.1,<3.0.0,>=1.7.4->spacy>=3->spacy[ja]>=3->TTS) (0.7.0)\n",
            "Requirement already satisfied: pydantic-core==2.27.2 in /usr/local/lib/python3.11/dist-packages (from pydantic!=1.8,!=1.8.1,<3.0.0,>=1.7.4->spacy>=3->spacy[ja]>=3->TTS) (2.27.2)\n",
            "Requirement already satisfied: charset-normalizer<4,>=2 in /usr/local/lib/python3.11/dist-packages (from requests<3.0.0,>=2.13.0->spacy>=3->spacy[ja]>=3->TTS) (3.4.1)\n",
            "Requirement already satisfied: idna<4,>=2.5 in /usr/local/lib/python3.11/dist-packages (from requests<3.0.0,>=2.13.0->spacy>=3->spacy[ja]>=3->TTS) (3.10)\n",
            "Requirement already satisfied: urllib3<3,>=1.21.1 in /usr/local/lib/python3.11/dist-packages (from requests<3.0.0,>=2.13.0->spacy>=3->spacy[ja]>=3->TTS) (2.3.0)\n",
            "Requirement already satisfied: certifi>=2017.4.17 in /usr/local/lib/python3.11/dist-packages (from requests<3.0.0,>=2.13.0->spacy>=3->spacy[ja]>=3->TTS) (2025.1.31)\n",
            "Requirement already satisfied: blis<0.8.0,>=0.7.8 in /usr/local/lib/python3.11/dist-packages (from thinc<8.3.0,>=8.2.2->spacy>=3->spacy[ja]>=3->TTS) (0.7.11)\n",
            "Requirement already satisfied: confection<1.0.0,>=0.0.1 in /usr/local/lib/python3.11/dist-packages (from thinc<8.3.0,>=8.2.2->spacy>=3->spacy[ja]>=3->TTS) (0.1.5)\n",
            "Requirement already satisfied: shellingham>=1.3.0 in /usr/local/lib/python3.11/dist-packages (from typer<1.0.0,>=0.3.0->spacy>=3->spacy[ja]>=3->TTS) (1.5.4)\n",
            "Requirement already satisfied: rich>=10.11.0 in /usr/local/lib/python3.11/dist-packages (from typer<1.0.0,>=0.3.0->spacy>=3->spacy[ja]>=3->TTS) (13.9.4)\n",
            "Requirement already satisfied: cloudpathlib<1.0.0,>=0.7.0 in /usr/local/lib/python3.11/dist-packages (from weasel<0.5.0,>=0.1.0->spacy>=3->spacy[ja]>=3->TTS) (0.20.0)\n",
            "Requirement already satisfied: smart-open<8.0.0,>=5.2.1 in /usr/local/lib/python3.11/dist-packages (from weasel<0.5.0,>=0.1.0->spacy>=3->spacy[ja]>=3->TTS) (7.1.0)\n",
            "Requirement already satisfied: absl-py>=0.4 in /usr/local/lib/python3.11/dist-packages (from tensorboard->trainer>=0.0.32->TTS) (1.4.0)\n",
            "Requirement already satisfied: grpcio>=1.48.2 in /usr/local/lib/python3.11/dist-packages (from tensorboard->trainer>=0.0.32->TTS) (1.70.0)\n",
            "Requirement already satisfied: markdown>=2.6.8 in /usr/local/lib/python3.11/dist-packages (from tensorboard->trainer>=0.0.32->TTS) (3.7)\n",
            "Requirement already satisfied: protobuf!=4.24.0,>=3.19.6 in /usr/local/lib/python3.11/dist-packages (from tensorboard->trainer>=0.0.32->TTS) (4.25.6)\n",
            "Requirement already satisfied: tensorboard-data-server<0.8.0,>=0.7.0 in /usr/local/lib/python3.11/dist-packages (from tensorboard->trainer>=0.0.32->TTS) (0.7.2)\n",
            "Requirement already satisfied: marisa-trie>=1.1.0 in /usr/local/lib/python3.11/dist-packages (from language-data>=1.2->langcodes<4.0.0,>=3.2.0->spacy>=3->spacy[ja]>=3->TTS) (1.2.1)\n",
            "Requirement already satisfied: markdown-it-py>=2.2.0 in /usr/local/lib/python3.11/dist-packages (from rich>=10.11.0->typer<1.0.0,>=0.3.0->spacy>=3->spacy[ja]>=3->TTS) (3.0.0)\n",
            "Requirement already satisfied: pygments<3.0.0,>=2.13.0 in /usr/local/lib/python3.11/dist-packages (from rich>=10.11.0->typer<1.0.0,>=0.3.0->spacy>=3->spacy[ja]>=3->TTS) (2.18.0)\n",
            "Requirement already satisfied: wrapt in /usr/local/lib/python3.11/dist-packages (from smart-open<8.0.0,>=5.2.1->weasel<0.5.0,>=0.1.0->spacy>=3->spacy[ja]>=3->TTS) (1.17.2)\n",
            "Requirement already satisfied: mdurl~=0.1 in /usr/local/lib/python3.11/dist-packages (from markdown-it-py>=2.2.0->rich>=10.11.0->typer<1.0.0,>=0.3.0->spacy>=3->spacy[ja]>=3->TTS) (0.1.2)\n",
            "Downloading TTS-0.22.0-cp311-cp311-manylinux1_x86_64.whl (937 kB)\n",
            "\u001b[2K   \u001b[90m━━━━━━━━━━━━━━━━━━━━━━━━━━━━━━━━━━━━━━━━\u001b[0m \u001b[32m938.0/938.0 kB\u001b[0m \u001b[31m44.6 MB/s\u001b[0m eta \u001b[36m0:00:00\u001b[0m\n",
            "\u001b[?25hDownloading anyascii-0.3.2-py3-none-any.whl (289 kB)\n",
            "Downloading coqpit-0.0.17-py3-none-any.whl (13 kB)\n",
            "Downloading g2pkk-0.1.2-py3-none-any.whl (25 kB)\n",
            "Downloading num2words-0.5.14-py3-none-any.whl (163 kB)\n",
            "Downloading pandas-1.5.3-cp311-cp311-manylinux_2_17_x86_64.manylinux2014_x86_64.whl (12.0 MB)\n",
            "\u001b[2K   \u001b[90m━━━━━━━━━━━━━━━━━━━━━━━━━━━━━━━━━━━━━━━━\u001b[0m \u001b[32m12.0/12.0 MB\u001b[0m \u001b[31m112.2 MB/s\u001b[0m eta \u001b[36m0:00:00\u001b[0m\n",
            "\u001b[?25hDownloading pysbd-0.3.4-py3-none-any.whl (71 kB)\n",
            "Downloading nvidia_cublas_cu12-12.4.5.8-py3-none-manylinux2014_x86_64.whl (363.4 MB)\n",
            "\u001b[2K   \u001b[90m━━━━━━━━━━━━━━━━━━━━━━━━━━━━━━━━━━━━━━━━\u001b[0m \u001b[32m363.4/363.4 MB\u001b[0m \u001b[31m56.9 MB/s\u001b[0m eta \u001b[36m0:00:00\u001b[0m\n",
            "\u001b[?25hDownloading nvidia_cuda_cupti_cu12-12.4.127-py3-none-manylinux2014_x86_64.whl (13.8 MB)\n",
            "\u001b[2K   \u001b[90m━━━━━━━━━━━━━━━━━━━━━━━━━━━━━━━━━━━━━━━━\u001b[0m \u001b[32m13.8/13.8 MB\u001b[0m \u001b[31m145.9 MB/s\u001b[0m eta \u001b[36m0:00:00\u001b[0m\n",
            "\u001b[?25hDownloading nvidia_cuda_nvrtc_cu12-12.4.127-py3-none-manylinux2014_x86_64.whl (24.6 MB)\n",
            "\u001b[2K   \u001b[90m━━━━━━━━━━━━━━━━━━━━━━━━━━━━━━━━━━━━━━━━\u001b[0m \u001b[32m24.6/24.6 MB\u001b[0m \u001b[31m153.4 MB/s\u001b[0m eta \u001b[36m0:00:00\u001b[0m\n",
            "\u001b[?25hDownloading nvidia_cuda_runtime_cu12-12.4.127-py3-none-manylinux2014_x86_64.whl (883 kB)\n",
            "\u001b[2K   \u001b[90m━━━━━━━━━━━━━━━━━━━━━━━━━━━━━━━━━━━━━━━━\u001b[0m \u001b[32m883.7/883.7 kB\u001b[0m \u001b[31m47.1 MB/s\u001b[0m eta \u001b[36m0:00:00\u001b[0m\n",
            "\u001b[?25hDownloading nvidia_cudnn_cu12-9.1.0.70-py3-none-manylinux2014_x86_64.whl (664.8 MB)\n",
            "\u001b[2K   \u001b[90m━━━━━━━━━━━━━━━━━━━━━━━━━━━━━━━━━━━━━━━━\u001b[0m \u001b[32m664.8/664.8 MB\u001b[0m \u001b[31m34.5 MB/s\u001b[0m eta \u001b[36m0:00:00\u001b[0m\n",
            "\u001b[?25hDownloading nvidia_cufft_cu12-11.2.1.3-py3-none-manylinux2014_x86_64.whl (211.5 MB)\n",
            "\u001b[2K   \u001b[90m━━━━━━━━━━━━━━━━━━━━━━━━━━━━━━━━━━━━━━━━\u001b[0m \u001b[32m211.5/211.5 MB\u001b[0m \u001b[31m68.9 MB/s\u001b[0m eta \u001b[36m0:00:00\u001b[0m\n",
            "\u001b[?25hDownloading nvidia_curand_cu12-10.3.5.147-py3-none-manylinux2014_x86_64.whl (56.3 MB)\n",
            "\u001b[2K   \u001b[90m━━━━━━━━━━━━━━━━━━━━━━━━━━━━━━━━━━━━━━━━\u001b[0m \u001b[32m56.3/56.3 MB\u001b[0m \u001b[31m60.2 MB/s\u001b[0m eta \u001b[36m0:00:00\u001b[0m\n",
            "\u001b[?25hDownloading nvidia_cusolver_cu12-11.6.1.9-py3-none-manylinux2014_x86_64.whl (127.9 MB)\n",
            "\u001b[2K   \u001b[90m━━━━━━━━━━━━━━━━━━━━━━━━━━━━━━━━━━━━━━━━\u001b[0m \u001b[32m127.9/127.9 MB\u001b[0m \u001b[31m65.7 MB/s\u001b[0m eta \u001b[36m0:00:00\u001b[0m\n",
            "\u001b[?25hDownloading nvidia_cusparse_cu12-12.3.1.170-py3-none-manylinux2014_x86_64.whl (207.5 MB)\n",
            "\u001b[2K   \u001b[90m━━━━━━━━━━━━━━━━━━━━━━━━━━━━━━━━━━━━━━━━\u001b[0m \u001b[32m207.5/207.5 MB\u001b[0m \u001b[31m65.3 MB/s\u001b[0m eta \u001b[36m0:00:00\u001b[0m\n",
            "\u001b[?25hDownloading nvidia_nvjitlink_cu12-12.4.127-py3-none-manylinux2014_x86_64.whl (21.1 MB)\n",
            "\u001b[2K   \u001b[90m━━━━━━━━━━━━━━━━━━━━━━━━━━━━━━━━━━━━━━━━\u001b[0m \u001b[32m21.1/21.1 MB\u001b[0m \u001b[31m123.6 MB/s\u001b[0m eta \u001b[36m0:00:00\u001b[0m\n",
            "\u001b[?25hDownloading trainer-0.0.36-py3-none-any.whl (51 kB)\n",
            "Downloading umap_learn-0.5.7-py3-none-any.whl (88 kB)\n",
            "Downloading Unidecode-1.3.8-py3-none-any.whl (235 kB)\n",
            "Downloading bangla-0.0.2-py2.py3-none-any.whl (6.2 kB)\n",
            "Downloading bnunicodenormalizer-0.1.7-py3-none-any.whl (23 kB)\n",
            "Downloading hangul_romanize-0.1.0-py3-none-any.whl (4.6 kB)\n",
            "Downloading jamo-0.4.1-py3-none-any.whl (9.5 kB)\n",
            "Downloading pypinyin-0.53.0-py2.py3-none-any.whl (834 kB)\n",
            "\u001b[2K   \u001b[90m━━━━━━━━━━━━━━━━━━━━━━━━━━━━━━━━━━━━━━━━\u001b[0m \u001b[32m834.7/834.7 kB\u001b[0m \u001b[31m43.8 MB/s\u001b[0m eta \u001b[36m0:00:00\u001b[0m\n",
            "\u001b[?25hDownloading dateparser-1.1.8-py2.py3-none-any.whl (293 kB)\n",
            "Downloading jsonlines-1.2.0-py2.py3-none-any.whl (7.6 kB)\n",
            "Downloading networkx-2.8.8-py3-none-any.whl (2.0 MB)\n",
            "\u001b[2K   \u001b[90m━━━━━━━━━━━━━━━━━━━━━━━━━━━━━━━━━━━━━━━━\u001b[0m \u001b[32m2.0/2.0 MB\u001b[0m \u001b[31m83.4 MB/s\u001b[0m eta \u001b[36m0:00:00\u001b[0m\n",
            "\u001b[?25hDownloading pynndescent-0.5.13-py3-none-any.whl (56 kB)\n",
            "Downloading python_crfsuite-0.9.11-cp311-cp311-manylinux_2_17_x86_64.manylinux2014_x86_64.whl (1.3 MB)\n",
            "\u001b[2K   \u001b[90m━━━━━━━━━━━━━━━━━━━━━━━━━━━━━━━━━━━━━━━━\u001b[0m \u001b[32m1.3/1.3 MB\u001b[0m \u001b[31m64.7 MB/s\u001b[0m eta \u001b[36m0:00:00\u001b[0m\n",
            "\u001b[?25hDownloading SudachiDict_core-20250129-py3-none-any.whl (72.1 MB)\n",
            "\u001b[2K   \u001b[90m━━━━━━━━━━━━━━━━━━━━━━━━━━━━━━━━━━━━━━━━\u001b[0m \u001b[32m72.1/72.1 MB\u001b[0m \u001b[31m61.9 MB/s\u001b[0m eta \u001b[36m0:00:00\u001b[0m\n",
            "\u001b[?25hDownloading SudachiPy-0.6.10-cp311-cp311-manylinux_2_17_x86_64.manylinux2014_x86_64.whl (1.7 MB)\n",
            "\u001b[2K   \u001b[90m━━━━━━━━━━━━━━━━━━━━━━━━━━━━━━━━━━━━━━━━\u001b[0m \u001b[32m1.7/1.7 MB\u001b[0m \u001b[31m86.5 MB/s\u001b[0m eta \u001b[36m0:00:00\u001b[0m\n",
            "\u001b[?25hBuilding wheels for collected packages: gruut, encodec, bnnumerizer, docopt, gruut-ipa, gruut_lang_de, gruut_lang_en, gruut_lang_es, gruut_lang_fr\n",
            "  Building wheel for gruut (setup.py) ... \u001b[?25l\u001b[?25hdone\n",
            "  Created wheel for gruut: filename=gruut-2.2.3-py3-none-any.whl size=75788 sha256=6dff55debee255b04272d68882ac3add6b5a635a50ffd3eaf92cb635fe61fca2\n",
            "  Stored in directory: /root/.cache/pip/wheels/1f/a0/bc/4dacab52579ab464cffafbe7a8e3792dd36ad9ac288b264843\n",
            "  Building wheel for encodec (setup.py) ... \u001b[?25l\u001b[?25hdone\n",
            "  Created wheel for encodec: filename=encodec-0.1.1-py3-none-any.whl size=45760 sha256=aa786186aa33db104b5394d05f36b683e24c64dc16dfa8c4220c32343561dfbb\n",
            "  Stored in directory: /root/.cache/pip/wheels/b4/a4/88/480018a664e58ca7ce6708759193ee51b017b3b72aa3df8a85\n",
            "  Building wheel for bnnumerizer (setup.py) ... \u001b[?25l\u001b[?25hdone\n",
            "  Created wheel for bnnumerizer: filename=bnnumerizer-0.0.2-py3-none-any.whl size=5261 sha256=dfafc384445fb1ae1b4b2e4c7fb37ec5447d1a67c7ef6e3c3cba6ae5f794b899\n",
            "  Stored in directory: /root/.cache/pip/wheels/9e/b9/e3/4145416693824818c0b931988a692676ecd4bbf2ea41d1eedd\n",
            "  Building wheel for docopt (setup.py) ... \u001b[?25l\u001b[?25hdone\n",
            "  Created wheel for docopt: filename=docopt-0.6.2-py2.py3-none-any.whl size=13706 sha256=55e0b9b3e016255837648e8dbaeaa49179b9b7af0cbc225f7c391702cd6263e0\n",
            "  Stored in directory: /root/.cache/pip/wheels/1a/b0/8c/4b75c4116c31f83c8f9f047231251e13cc74481cca4a78a9ce\n",
            "  Building wheel for gruut-ipa (setup.py) ... \u001b[?25l\u001b[?25hdone\n",
            "  Created wheel for gruut-ipa: filename=gruut_ipa-0.13.0-py3-none-any.whl size=104873 sha256=2fd72481225cc4117bac14a1434997f80368eddb70ac08d6b76992e47328dabe\n",
            "  Stored in directory: /root/.cache/pip/wheels/c7/10/89/a5908dd7a9a032229684b7679396785e19f816667f788087fb\n",
            "  Building wheel for gruut_lang_de (setup.py) ... \u001b[?25l\u001b[?25hdone\n",
            "  Created wheel for gruut_lang_de: filename=gruut_lang_de-2.0.1-py3-none-any.whl size=18498313 sha256=dcda7fece4794c10e68fcee931e7b8e5adafe479d9321cff1a7f4986a0790536\n",
            "  Stored in directory: /root/.cache/pip/wheels/87/fa/df/5fdf5d3cc26ba859b8698a1f28581d1a6aa081edc6df9847ab\n",
            "  Building wheel for gruut_lang_en (setup.py) ... \u001b[?25l\u001b[?25hdone\n",
            "  Created wheel for gruut_lang_en: filename=gruut_lang_en-2.0.1-py3-none-any.whl size=15326857 sha256=604860791a8648d4142891cb91fe51e18f0f9cf7f7e81d63874cfc5a9d40cbbc\n",
            "  Stored in directory: /root/.cache/pip/wheels/06/30/52/dc5cd222b4bbde285838fed1f96636e96f85cd75493e79a978\n",
            "  Building wheel for gruut_lang_es (setup.py) ... \u001b[?25l\u001b[?25hdone\n",
            "  Created wheel for gruut_lang_es: filename=gruut_lang_es-2.0.1-py3-none-any.whl size=32173928 sha256=f2d022f66c9b83b6e89ce850a53b090155c9fcff168b6baf2bd8c832c5442abd\n",
            "  Stored in directory: /root/.cache/pip/wheels/c8/eb/59/30b5d15e56347e595f613036cbea0f807ad9621c75cd75d912\n",
            "  Building wheel for gruut_lang_fr (setup.py) ... \u001b[?25l\u001b[?25hdone\n",
            "  Created wheel for gruut_lang_fr: filename=gruut_lang_fr-2.0.2-py3-none-any.whl size=10968766 sha256=b8412aae45fe6f2b7089df4550d6bd2328943a6b1730920e05d28a7c5dac524e\n",
            "  Stored in directory: /root/.cache/pip/wheels/e0/e7/a0/7c416a3eeaa94ca71bf7bcbc6289cced2263d8ba35e82444bb\n",
            "Successfully built gruut encodec bnnumerizer docopt gruut-ipa gruut_lang_de gruut_lang_en gruut_lang_es gruut_lang_fr\n",
            "Installing collected packages: sudachipy, jamo, hangul-romanize, gruut_lang_fr, gruut_lang_es, gruut_lang_en, gruut_lang_de, docopt, bnunicodenormalizer, bnnumerizer, bangla, unidecode, sudachidict-core, python-crfsuite, pysbd, pypinyin, nvidia-nvjitlink-cu12, nvidia-curand-cu12, nvidia-cufft-cu12, nvidia-cuda-runtime-cu12, nvidia-cuda-nvrtc-cu12, nvidia-cuda-cupti-cu12, nvidia-cublas-cu12, num2words, networkx, jsonlines, gruut-ipa, coqpit, anyascii, pandas, nvidia-cusparse-cu12, nvidia-cudnn-cu12, g2pkk, dateparser, pynndescent, nvidia-cusolver-cu12, gruut, umap-learn, trainer, encodec, TTS\n",
            "  Attempting uninstall: nvidia-nvjitlink-cu12\n",
            "    Found existing installation: nvidia-nvjitlink-cu12 12.5.82\n",
            "    Uninstalling nvidia-nvjitlink-cu12-12.5.82:\n",
            "      Successfully uninstalled nvidia-nvjitlink-cu12-12.5.82\n",
            "  Attempting uninstall: nvidia-curand-cu12\n",
            "    Found existing installation: nvidia-curand-cu12 10.3.6.82\n",
            "    Uninstalling nvidia-curand-cu12-10.3.6.82:\n",
            "      Successfully uninstalled nvidia-curand-cu12-10.3.6.82\n",
            "  Attempting uninstall: nvidia-cufft-cu12\n",
            "    Found existing installation: nvidia-cufft-cu12 11.2.3.61\n",
            "    Uninstalling nvidia-cufft-cu12-11.2.3.61:\n",
            "      Successfully uninstalled nvidia-cufft-cu12-11.2.3.61\n",
            "  Attempting uninstall: nvidia-cuda-runtime-cu12\n",
            "    Found existing installation: nvidia-cuda-runtime-cu12 12.5.82\n",
            "    Uninstalling nvidia-cuda-runtime-cu12-12.5.82:\n",
            "      Successfully uninstalled nvidia-cuda-runtime-cu12-12.5.82\n",
            "  Attempting uninstall: nvidia-cuda-nvrtc-cu12\n",
            "    Found existing installation: nvidia-cuda-nvrtc-cu12 12.5.82\n",
            "    Uninstalling nvidia-cuda-nvrtc-cu12-12.5.82:\n",
            "      Successfully uninstalled nvidia-cuda-nvrtc-cu12-12.5.82\n",
            "  Attempting uninstall: nvidia-cuda-cupti-cu12\n",
            "    Found existing installation: nvidia-cuda-cupti-cu12 12.5.82\n",
            "    Uninstalling nvidia-cuda-cupti-cu12-12.5.82:\n",
            "      Successfully uninstalled nvidia-cuda-cupti-cu12-12.5.82\n",
            "  Attempting uninstall: nvidia-cublas-cu12\n",
            "    Found existing installation: nvidia-cublas-cu12 12.5.3.2\n",
            "    Uninstalling nvidia-cublas-cu12-12.5.3.2:\n",
            "      Successfully uninstalled nvidia-cublas-cu12-12.5.3.2\n",
            "  Attempting uninstall: networkx\n",
            "    Found existing installation: networkx 3.4.2\n",
            "    Uninstalling networkx-3.4.2:\n",
            "      Successfully uninstalled networkx-3.4.2\n",
            "  Attempting uninstall: pandas\n",
            "    Found existing installation: pandas 2.2.2\n",
            "    Uninstalling pandas-2.2.2:\n",
            "      Successfully uninstalled pandas-2.2.2\n",
            "  Attempting uninstall: nvidia-cusparse-cu12\n",
            "    Found existing installation: nvidia-cusparse-cu12 12.5.1.3\n",
            "    Uninstalling nvidia-cusparse-cu12-12.5.1.3:\n",
            "      Successfully uninstalled nvidia-cusparse-cu12-12.5.1.3\n",
            "  Attempting uninstall: nvidia-cudnn-cu12\n",
            "    Found existing installation: nvidia-cudnn-cu12 9.3.0.75\n",
            "    Uninstalling nvidia-cudnn-cu12-9.3.0.75:\n",
            "      Successfully uninstalled nvidia-cudnn-cu12-9.3.0.75\n",
            "  Attempting uninstall: nvidia-cusolver-cu12\n",
            "    Found existing installation: nvidia-cusolver-cu12 11.6.3.83\n",
            "    Uninstalling nvidia-cusolver-cu12-11.6.3.83:\n",
            "      Successfully uninstalled nvidia-cusolver-cu12-11.6.3.83\n",
            "\u001b[31mERROR: pip's dependency resolver does not currently take into account all the packages that are installed. This behaviour is the source of the following dependency conflicts.\n",
            "google-colab 1.0.0 requires pandas==2.2.2, but you have pandas 1.5.3 which is incompatible.\n",
            "plotnine 0.14.5 requires pandas>=2.2.0, but you have pandas 1.5.3 which is incompatible.\n",
            "xarray 2025.1.2 requires pandas>=2.1, but you have pandas 1.5.3 which is incompatible.\n",
            "mizani 0.13.1 requires pandas>=2.2.0, but you have pandas 1.5.3 which is incompatible.\n",
            "cudf-cu12 24.12.0 requires pandas<2.2.4dev0,>=2.0, but you have pandas 1.5.3 which is incompatible.\n",
            "nx-cugraph-cu12 24.12.0 requires networkx>=3.2, but you have networkx 2.8.8 which is incompatible.\n",
            "scikit-image 0.25.1 requires networkx>=3.0, but you have networkx 2.8.8 which is incompatible.\u001b[0m\u001b[31m\n",
            "\u001b[0mSuccessfully installed TTS-0.22.0 anyascii-0.3.2 bangla-0.0.2 bnnumerizer-0.0.2 bnunicodenormalizer-0.1.7 coqpit-0.0.17 dateparser-1.1.8 docopt-0.6.2 encodec-0.1.1 g2pkk-0.1.2 gruut-2.2.3 gruut-ipa-0.13.0 gruut_lang_de-2.0.1 gruut_lang_en-2.0.1 gruut_lang_es-2.0.1 gruut_lang_fr-2.0.2 hangul-romanize-0.1.0 jamo-0.4.1 jsonlines-1.2.0 networkx-2.8.8 num2words-0.5.14 nvidia-cublas-cu12-12.4.5.8 nvidia-cuda-cupti-cu12-12.4.127 nvidia-cuda-nvrtc-cu12-12.4.127 nvidia-cuda-runtime-cu12-12.4.127 nvidia-cudnn-cu12-9.1.0.70 nvidia-cufft-cu12-11.2.1.3 nvidia-curand-cu12-10.3.5.147 nvidia-cusolver-cu12-11.6.1.9 nvidia-cusparse-cu12-12.3.1.170 nvidia-nvjitlink-cu12-12.4.127 pandas-1.5.3 pynndescent-0.5.13 pypinyin-0.53.0 pysbd-0.3.4 python-crfsuite-0.9.11 sudachidict-core-20250129 sudachipy-0.6.10 trainer-0.0.36 umap-learn-0.5.7 unidecode-1.3.8\n"
          ]
        }
      ],
      "source": [
        "## Install Coqui TTS\n",
        "! pip install -U pip\n",
        "! pip install TTS"
      ]
    },
    {
      "cell_type": "code",
      "source": [
        "!pip install phonemizer\n",
        "!sudo apt-get install espeak-ng -y  # Pe Google Colab / Linux\n"
      ],
      "metadata": {
        "collapsed": true,
        "id": "Tq9mvNBQHlrx",
        "outputId": "660a532c-9467-4423-a02d-7905825d0277",
        "colab": {
          "base_uri": "https://localhost:8080/"
        }
      },
      "id": "Tq9mvNBQHlrx",
      "execution_count": 4,
      "outputs": [
        {
          "output_type": "stream",
          "name": "stdout",
          "text": [
            "Collecting phonemizer\n",
            "  Downloading phonemizer-3.3.0-py3-none-any.whl.metadata (48 kB)\n",
            "Requirement already satisfied: joblib in /usr/local/lib/python3.11/dist-packages (from phonemizer) (1.4.2)\n",
            "Collecting segments (from phonemizer)\n",
            "  Downloading segments-2.2.1-py2.py3-none-any.whl.metadata (3.3 kB)\n",
            "Requirement already satisfied: attrs>=18.1 in /usr/local/lib/python3.11/dist-packages (from phonemizer) (25.1.0)\n",
            "Collecting dlinfo (from phonemizer)\n",
            "  Downloading dlinfo-2.0.0-py3-none-any.whl.metadata (1.1 kB)\n",
            "Requirement already satisfied: typing-extensions in /usr/local/lib/python3.11/dist-packages (from phonemizer) (4.12.2)\n",
            "Collecting clldutils>=1.7.3 (from segments->phonemizer)\n",
            "  Downloading clldutils-3.24.1-py2.py3-none-any.whl.metadata (3.0 kB)\n",
            "Collecting csvw>=1.5.6 (from segments->phonemizer)\n",
            "  Downloading csvw-3.5.1-py2.py3-none-any.whl.metadata (10 kB)\n",
            "Requirement already satisfied: regex in /usr/local/lib/python3.11/dist-packages (from segments->phonemizer) (2024.11.6)\n",
            "Requirement already satisfied: python-dateutil in /usr/local/lib/python3.11/dist-packages (from clldutils>=1.7.3->segments->phonemizer) (2.8.2)\n",
            "Requirement already satisfied: tabulate>=0.7.7 in /usr/local/lib/python3.11/dist-packages (from clldutils>=1.7.3->segments->phonemizer) (0.9.0)\n",
            "Collecting colorlog (from clldutils>=1.7.3->segments->phonemizer)\n",
            "  Downloading colorlog-6.9.0-py3-none-any.whl.metadata (10 kB)\n",
            "Collecting bibtexparser>=2.0.0b4 (from clldutils>=1.7.3->segments->phonemizer)\n",
            "  Downloading bibtexparser-2.0.0b8-py3-none-any.whl.metadata (5.4 kB)\n",
            "Collecting pylatexenc (from clldutils>=1.7.3->segments->phonemizer)\n",
            "  Downloading pylatexenc-2.10.tar.gz (162 kB)\n",
            "  Preparing metadata (setup.py) ... \u001b[?25l\u001b[?25hdone\n",
            "Requirement already satisfied: markdown in /usr/local/lib/python3.11/dist-packages (from clldutils>=1.7.3->segments->phonemizer) (3.7)\n",
            "Requirement already satisfied: lxml in /usr/local/lib/python3.11/dist-packages (from clldutils>=1.7.3->segments->phonemizer) (5.3.1)\n",
            "Requirement already satisfied: markupsafe in /usr/local/lib/python3.11/dist-packages (from clldutils>=1.7.3->segments->phonemizer) (3.0.2)\n",
            "Collecting isodate (from csvw>=1.5.6->segments->phonemizer)\n",
            "  Downloading isodate-0.7.2-py3-none-any.whl.metadata (11 kB)\n",
            "Collecting rfc3986<2 (from csvw>=1.5.6->segments->phonemizer)\n",
            "  Downloading rfc3986-1.5.0-py2.py3-none-any.whl.metadata (6.5 kB)\n",
            "Requirement already satisfied: uritemplate>=3.0.0 in /usr/local/lib/python3.11/dist-packages (from csvw>=1.5.6->segments->phonemizer) (4.1.1)\n",
            "Requirement already satisfied: babel in /usr/local/lib/python3.11/dist-packages (from csvw>=1.5.6->segments->phonemizer) (2.17.0)\n",
            "Requirement already satisfied: requests in /usr/local/lib/python3.11/dist-packages (from csvw>=1.5.6->segments->phonemizer) (2.32.3)\n",
            "Collecting language-tags (from csvw>=1.5.6->segments->phonemizer)\n",
            "  Downloading language_tags-1.2.0-py3-none-any.whl.metadata (2.1 kB)\n",
            "Collecting rdflib (from csvw>=1.5.6->segments->phonemizer)\n",
            "  Downloading rdflib-7.1.3-py3-none-any.whl.metadata (11 kB)\n",
            "Collecting colorama (from csvw>=1.5.6->segments->phonemizer)\n",
            "  Downloading colorama-0.4.6-py2.py3-none-any.whl.metadata (17 kB)\n",
            "Requirement already satisfied: jsonschema in /usr/local/lib/python3.11/dist-packages (from csvw>=1.5.6->segments->phonemizer) (4.23.0)\n",
            "Requirement already satisfied: jsonschema-specifications>=2023.03.6 in /usr/local/lib/python3.11/dist-packages (from jsonschema->csvw>=1.5.6->segments->phonemizer) (2024.10.1)\n",
            "Requirement already satisfied: referencing>=0.28.4 in /usr/local/lib/python3.11/dist-packages (from jsonschema->csvw>=1.5.6->segments->phonemizer) (0.36.2)\n",
            "Requirement already satisfied: rpds-py>=0.7.1 in /usr/local/lib/python3.11/dist-packages (from jsonschema->csvw>=1.5.6->segments->phonemizer) (0.22.3)\n",
            "Requirement already satisfied: six>=1.5 in /usr/local/lib/python3.11/dist-packages (from python-dateutil->clldutils>=1.7.3->segments->phonemizer) (1.17.0)\n",
            "Requirement already satisfied: pyparsing<4,>=2.1.0 in /usr/local/lib/python3.11/dist-packages (from rdflib->csvw>=1.5.6->segments->phonemizer) (3.2.1)\n",
            "Requirement already satisfied: charset-normalizer<4,>=2 in /usr/local/lib/python3.11/dist-packages (from requests->csvw>=1.5.6->segments->phonemizer) (3.4.1)\n",
            "Requirement already satisfied: idna<4,>=2.5 in /usr/local/lib/python3.11/dist-packages (from requests->csvw>=1.5.6->segments->phonemizer) (3.10)\n",
            "Requirement already satisfied: urllib3<3,>=1.21.1 in /usr/local/lib/python3.11/dist-packages (from requests->csvw>=1.5.6->segments->phonemizer) (2.3.0)\n",
            "Requirement already satisfied: certifi>=2017.4.17 in /usr/local/lib/python3.11/dist-packages (from requests->csvw>=1.5.6->segments->phonemizer) (2025.1.31)\n",
            "Downloading phonemizer-3.3.0-py3-none-any.whl (103 kB)\n",
            "Downloading dlinfo-2.0.0-py3-none-any.whl (3.7 kB)\n",
            "Downloading segments-2.2.1-py2.py3-none-any.whl (15 kB)\n",
            "Downloading clldutils-3.24.1-py2.py3-none-any.whl (1.7 MB)\n",
            "\u001b[2K   \u001b[90m━━━━━━━━━━━━━━━━━━━━━━━━━━━━━━━━━━━━━━━━\u001b[0m \u001b[32m1.7/1.7 MB\u001b[0m \u001b[31m47.5 MB/s\u001b[0m eta \u001b[36m0:00:00\u001b[0m\n",
            "\u001b[?25hDownloading csvw-3.5.1-py2.py3-none-any.whl (59 kB)\n",
            "Downloading bibtexparser-2.0.0b8-py3-none-any.whl (39 kB)\n",
            "Downloading rfc3986-1.5.0-py2.py3-none-any.whl (31 kB)\n",
            "Downloading colorama-0.4.6-py2.py3-none-any.whl (25 kB)\n",
            "Downloading colorlog-6.9.0-py3-none-any.whl (11 kB)\n",
            "Downloading isodate-0.7.2-py3-none-any.whl (22 kB)\n",
            "Downloading language_tags-1.2.0-py3-none-any.whl (213 kB)\n",
            "Downloading rdflib-7.1.3-py3-none-any.whl (564 kB)\n",
            "\u001b[2K   \u001b[90m━━━━━━━━━━━━━━━━━━━━━━━━━━━━━━━━━━━━━━━━\u001b[0m \u001b[32m564.9/564.9 kB\u001b[0m \u001b[31m23.1 MB/s\u001b[0m eta \u001b[36m0:00:00\u001b[0m\n",
            "\u001b[?25hBuilding wheels for collected packages: pylatexenc\n",
            "  Building wheel for pylatexenc (setup.py) ... \u001b[?25l\u001b[?25hdone\n",
            "  Created wheel for pylatexenc: filename=pylatexenc-2.10-py3-none-any.whl size=136816 sha256=6cd3df5710a33ea077291dda65aa3948c605f61d5833c76814106ee597b3a048\n",
            "  Stored in directory: /root/.cache/pip/wheels/b1/7a/33/9fdd892f784ed4afda62b685ae3703adf4c91aa0f524c28f03\n",
            "Successfully built pylatexenc\n",
            "Installing collected packages: rfc3986, pylatexenc, language-tags, rdflib, isodate, dlinfo, colorlog, colorama, bibtexparser, clldutils, csvw, segments, phonemizer\n",
            "Successfully installed bibtexparser-2.0.0b8 clldutils-3.24.1 colorama-0.4.6 colorlog-6.9.0 csvw-3.5.1 dlinfo-2.0.0 isodate-0.7.2 language-tags-1.2.0 phonemizer-3.3.0 pylatexenc-2.10 rdflib-7.1.3 rfc3986-1.5.0 segments-2.2.1\n",
            "Reading package lists... Done\n",
            "Building dependency tree... Done\n",
            "Reading state information... Done\n",
            "The following additional packages will be installed:\n",
            "  espeak-ng-data libespeak-ng1 libpcaudio0 libsonic0\n",
            "The following NEW packages will be installed:\n",
            "  espeak-ng espeak-ng-data libespeak-ng1 libpcaudio0 libsonic0\n",
            "0 upgraded, 5 newly installed, 0 to remove and 20 not upgraded.\n",
            "Need to get 4,526 kB of archives.\n",
            "After this operation, 11.9 MB of additional disk space will be used.\n",
            "Get:1 http://archive.ubuntu.com/ubuntu jammy/main amd64 libpcaudio0 amd64 1.1-6build2 [8,956 B]\n",
            "Get:2 http://archive.ubuntu.com/ubuntu jammy/main amd64 libsonic0 amd64 0.2.0-11build1 [10.3 kB]\n",
            "Get:3 http://archive.ubuntu.com/ubuntu jammy-updates/main amd64 espeak-ng-data amd64 1.50+dfsg-10ubuntu0.1 [3,956 kB]\n",
            "Get:4 http://archive.ubuntu.com/ubuntu jammy-updates/main amd64 libespeak-ng1 amd64 1.50+dfsg-10ubuntu0.1 [207 kB]\n",
            "Get:5 http://archive.ubuntu.com/ubuntu jammy-updates/universe amd64 espeak-ng amd64 1.50+dfsg-10ubuntu0.1 [343 kB]\n",
            "Fetched 4,526 kB in 2s (2,719 kB/s)\n",
            "debconf: unable to initialize frontend: Dialog\n",
            "debconf: (No usable dialog-like program is installed, so the dialog based frontend cannot be used. at /usr/share/perl5/Debconf/FrontEnd/Dialog.pm line 78, <> line 5.)\n",
            "debconf: falling back to frontend: Readline\n",
            "debconf: unable to initialize frontend: Readline\n",
            "debconf: (This frontend requires a controlling tty.)\n",
            "debconf: falling back to frontend: Teletype\n",
            "dpkg-preconfigure: unable to re-open stdin: \n",
            "Selecting previously unselected package libpcaudio0:amd64.\n",
            "(Reading database ... 124926 files and directories currently installed.)\n",
            "Preparing to unpack .../libpcaudio0_1.1-6build2_amd64.deb ...\n",
            "Unpacking libpcaudio0:amd64 (1.1-6build2) ...\n",
            "Selecting previously unselected package libsonic0:amd64.\n",
            "Preparing to unpack .../libsonic0_0.2.0-11build1_amd64.deb ...\n",
            "Unpacking libsonic0:amd64 (0.2.0-11build1) ...\n",
            "Selecting previously unselected package espeak-ng-data:amd64.\n",
            "Preparing to unpack .../espeak-ng-data_1.50+dfsg-10ubuntu0.1_amd64.deb ...\n",
            "Unpacking espeak-ng-data:amd64 (1.50+dfsg-10ubuntu0.1) ...\n",
            "Selecting previously unselected package libespeak-ng1:amd64.\n",
            "Preparing to unpack .../libespeak-ng1_1.50+dfsg-10ubuntu0.1_amd64.deb ...\n",
            "Unpacking libespeak-ng1:amd64 (1.50+dfsg-10ubuntu0.1) ...\n",
            "Selecting previously unselected package espeak-ng.\n",
            "Preparing to unpack .../espeak-ng_1.50+dfsg-10ubuntu0.1_amd64.deb ...\n",
            "Unpacking espeak-ng (1.50+dfsg-10ubuntu0.1) ...\n",
            "Setting up libpcaudio0:amd64 (1.1-6build2) ...\n",
            "Setting up libsonic0:amd64 (0.2.0-11build1) ...\n",
            "Setting up espeak-ng-data:amd64 (1.50+dfsg-10ubuntu0.1) ...\n",
            "Setting up libespeak-ng1:amd64 (1.50+dfsg-10ubuntu0.1) ...\n",
            "Setting up espeak-ng (1.50+dfsg-10ubuntu0.1) ...\n",
            "Processing triggers for man-db (2.10.2-1) ...\n",
            "Processing triggers for libc-bin (2.35-0ubuntu3.8) ...\n",
            "/sbin/ldconfig.real: /usr/local/lib/libtbb.so.12 is not a symbolic link\n",
            "\n",
            "/sbin/ldconfig.real: /usr/local/lib/libtbbbind_2_5.so.3 is not a symbolic link\n",
            "\n",
            "/sbin/ldconfig.real: /usr/local/lib/libtcm_debug.so.1 is not a symbolic link\n",
            "\n",
            "/sbin/ldconfig.real: /usr/local/lib/libtbbmalloc.so.2 is not a symbolic link\n",
            "\n",
            "/sbin/ldconfig.real: /usr/local/lib/libur_adapter_level_zero.so.0 is not a symbolic link\n",
            "\n",
            "/sbin/ldconfig.real: /usr/local/lib/libtbbmalloc_proxy.so.2 is not a symbolic link\n",
            "\n",
            "/sbin/ldconfig.real: /usr/local/lib/libhwloc.so.15 is not a symbolic link\n",
            "\n",
            "/sbin/ldconfig.real: /usr/local/lib/libtcm.so.1 is not a symbolic link\n",
            "\n",
            "/sbin/ldconfig.real: /usr/local/lib/libumf.so.0 is not a symbolic link\n",
            "\n",
            "/sbin/ldconfig.real: /usr/local/lib/libtbbbind.so.3 is not a symbolic link\n",
            "\n",
            "/sbin/ldconfig.real: /usr/local/lib/libur_loader.so.0 is not a symbolic link\n",
            "\n",
            "/sbin/ldconfig.real: /usr/local/lib/libur_adapter_opencl.so.0 is not a symbolic link\n",
            "\n",
            "/sbin/ldconfig.real: /usr/local/lib/libtbbbind_2_0.so.3 is not a symbolic link\n",
            "\n"
          ]
        }
      ]
    },
    {
      "cell_type": "code",
      "source": [
        "!pip install --upgrade pandas==2.2.2 networkx==3.2\n"
      ],
      "metadata": {
        "collapsed": true,
        "colab": {
          "base_uri": "https://localhost:8080/"
        },
        "id": "iE0xL1TL64Ln",
        "outputId": "2446a6e8-610f-4090-9b15-40fcd53f5319"
      },
      "id": "iE0xL1TL64Ln",
      "execution_count": 5,
      "outputs": [
        {
          "output_type": "stream",
          "name": "stdout",
          "text": [
            "Collecting pandas==2.2.2\n",
            "  Downloading pandas-2.2.2-cp311-cp311-manylinux_2_17_x86_64.manylinux2014_x86_64.whl.metadata (19 kB)\n",
            "Collecting networkx==3.2\n",
            "  Downloading networkx-3.2-py3-none-any.whl.metadata (5.2 kB)\n",
            "Requirement already satisfied: numpy>=1.23.2 in /usr/local/lib/python3.11/dist-packages (from pandas==2.2.2) (1.26.4)\n",
            "Requirement already satisfied: python-dateutil>=2.8.2 in /usr/local/lib/python3.11/dist-packages (from pandas==2.2.2) (2.8.2)\n",
            "Requirement already satisfied: pytz>=2020.1 in /usr/local/lib/python3.11/dist-packages (from pandas==2.2.2) (2025.1)\n",
            "Requirement already satisfied: tzdata>=2022.7 in /usr/local/lib/python3.11/dist-packages (from pandas==2.2.2) (2025.1)\n",
            "Requirement already satisfied: six>=1.5 in /usr/local/lib/python3.11/dist-packages (from python-dateutil>=2.8.2->pandas==2.2.2) (1.17.0)\n",
            "Downloading pandas-2.2.2-cp311-cp311-manylinux_2_17_x86_64.manylinux2014_x86_64.whl (13.0 MB)\n",
            "\u001b[2K   \u001b[90m━━━━━━━━━━━━━━━━━━━━━━━━━━━━━━━━━━━━━━━━\u001b[0m \u001b[32m13.0/13.0 MB\u001b[0m \u001b[31m98.7 MB/s\u001b[0m eta \u001b[36m0:00:00\u001b[0m\n",
            "\u001b[?25hDownloading networkx-3.2-py3-none-any.whl (1.6 MB)\n",
            "\u001b[2K   \u001b[90m━━━━━━━━━━━━━━━━━━━━━━━━━━━━━━━━━━━━━━━━\u001b[0m \u001b[32m1.6/1.6 MB\u001b[0m \u001b[31m80.5 MB/s\u001b[0m eta \u001b[36m0:00:00\u001b[0m\n",
            "\u001b[?25hInstalling collected packages: networkx, pandas\n",
            "  Attempting uninstall: networkx\n",
            "    Found existing installation: networkx 2.8.8\n",
            "    Uninstalling networkx-2.8.8:\n",
            "      Successfully uninstalled networkx-2.8.8\n",
            "  Attempting uninstall: pandas\n",
            "    Found existing installation: pandas 1.5.3\n",
            "    Uninstalling pandas-1.5.3:\n",
            "      Successfully uninstalled pandas-1.5.3\n",
            "\u001b[31mERROR: pip's dependency resolver does not currently take into account all the packages that are installed. This behaviour is the source of the following dependency conflicts.\n",
            "tts 0.22.0 requires pandas<2.0,>=1.4, but you have pandas 2.2.2 which is incompatible.\n",
            "gruut 2.2.3 requires networkx<3.0.0,>=2.5.0, but you have networkx 3.2 which is incompatible.\u001b[0m\u001b[31m\n",
            "\u001b[0mSuccessfully installed networkx-3.2 pandas-2.2.2\n"
          ]
        }
      ]
    },
    {
      "cell_type": "code",
      "source": [
        "import TTS\n",
        "print(TTS.__version__)\n"
      ],
      "metadata": {
        "colab": {
          "base_uri": "https://localhost:8080/"
        },
        "collapsed": true,
        "id": "CHE7GVt7-MQ_",
        "outputId": "0e55c7c6-858f-4daf-b423-bc25dc305cd7"
      },
      "id": "CHE7GVt7-MQ_",
      "execution_count": 6,
      "outputs": [
        {
          "output_type": "stream",
          "name": "stdout",
          "text": [
            "0.22.0\n"
          ]
        }
      ]
    },
    {
      "cell_type": "markdown",
      "source": [
        "!pip install TTS --target=/content/TTS_env\n",
        "import sys\n",
        "sys.path.append('/content/TTS_env')\n"
      ],
      "metadata": {
        "id": "u9mrntzQ7WKx"
      },
      "id": "u9mrntzQ7WKx"
    },
    {
      "cell_type": "markdown",
      "id": "be5fe49c",
      "metadata": {
        "id": "be5fe49c"
      },
      "source": [
        "## ✅ Data Preparation\n",
        "\n",
        "### **First things first**: we need some data.\n",
        "\n",
        "We're training a Text-to-Speech model, so we need some _text_ and we need some _speech_. Specificially, we want _transcribed speech_. The speech must be divided into audio clips and each clip needs transcription. More details about data requirements such as recording characteristics, background noise and vocabulary coverage can be found in the [🐸TTS documentation](https://tts.readthedocs.io/en/latest/formatting_your_dataset.html).\n",
        "\n",
        "If you have a single audio file and you need to **split** it into clips. It is also important to use a lossless audio file format to prevent compression artifacts. We recommend using **wav** file format.\n",
        "\n",
        "The data format we will be adopting for this tutorial is taken from the widely-used  **LJSpeech** dataset, where **waves** are collected under a folder:\n",
        "\n",
        "<span style=\"color:purple;font-size:15px\">\n",
        "/wavs<br />\n",
        " &emsp;| - audio1.wav<br />\n",
        " &emsp;| - audio2.wav<br />\n",
        " &emsp;| - audio3.wav<br />\n",
        "  ...<br />\n",
        "</span>\n",
        "\n",
        "and a **metadata.csv** file will have the audio file name in parallel to the transcript, delimited by `|`:\n",
        "\n",
        "<span style=\"color:purple;font-size:15px\">\n",
        "# metadata.csv <br />\n",
        "audio1|This is my sentence. <br />\n",
        "audio2|This is maybe my sentence. <br />\n",
        "audio3|This is certainly my sentence. <br />\n",
        "audio4|Let this be your sentence. <br />\n",
        "...\n",
        "</span>\n",
        "\n",
        "In the end, we should have the following **folder structure**:\n",
        "\n",
        "<span style=\"color:purple;font-size:15px\">\n",
        "/MyTTSDataset <br />\n",
        "&emsp;| <br />\n",
        "&emsp;| -> metadata.csv<br />\n",
        "&emsp;| -> /wavs<br />\n",
        "&emsp;&emsp;| -> audio1.wav<br />\n",
        "&emsp;&emsp;| -> audio2.wav<br />\n",
        "&emsp;&emsp;| ...<br />\n",
        "</span>"
      ]
    },
    {
      "cell_type": "markdown",
      "id": "69501a10-3b53-4e75-ae66-90221d6f2271",
      "metadata": {
        "id": "69501a10-3b53-4e75-ae66-90221d6f2271"
      },
      "source": [
        "🐸TTS already provides tooling for the _LJSpeech_. if you use the same format, you can start training your models right away. <br />\n",
        "\n",
        "After you collect and format your dataset, you need to check two things. Whether you need a **_formatter_** and a **_text_cleaner_**. <br /> The **_formatter_** loads the text file (created above) as a list and the **_text_cleaner_** performs a sequence of text normalization operations that converts the raw text into the spoken representation (e.g. converting numbers to text, acronyms, and symbols to the spoken format).\n",
        "\n",
        "If you use a different dataset format then the LJSpeech or the other public datasets that 🐸TTS supports, then you need to write your own **_formatter_** and  **_text_cleaner_**."
      ]
    },
    {
      "cell_type": "markdown",
      "id": "e7f226c8-4e55-48fa-937b-8415d539b17c",
      "metadata": {
        "id": "e7f226c8-4e55-48fa-937b-8415d539b17c"
      },
      "source": [
        "## ⏳️ Loading your dataset\n",
        "Load one of the dataset supported by 🐸TTS.\n",
        "\n",
        "We will start by defining dataset config and setting LJSpeech as our target dataset and define its path.\n"
      ]
    },
    {
      "cell_type": "code",
      "execution_count": 7,
      "id": "b3cb0191-b8fc-4158-bd26-8423c2a8ba66",
      "metadata": {
        "id": "b3cb0191-b8fc-4158-bd26-8423c2a8ba66"
      },
      "outputs": [],
      "source": [
        "import os\n",
        "\n",
        "# BaseDatasetConfig: defines name, formatter and path of the dataset.\n",
        "from TTS.tts.configs.shared_configs import BaseDatasetConfig\n",
        "\n",
        "output_path = \"tts_train_dir\"\n",
        "if not os.path.exists(output_path):\n",
        "    os.makedirs(output_path)\n",
        ""
      ]
    },
    {
      "cell_type": "code",
      "execution_count": 8,
      "id": "ae6b7019-3685-4b48-8917-c152e288d7e3",
      "metadata": {
        "id": "ae6b7019-3685-4b48-8917-c152e288d7e3"
      },
      "outputs": [],
      "source": [
        "# Descarca dataset-ul\n",
        "dataset_path=\"/content/drive/MyDrive/dataset_ro/wavs\"\n",
        "transcriptions=\"/content/drive/MyDrive/dataset_ro/list.txt\"\n"
      ]
    },
    {
      "cell_type": "code",
      "execution_count": 9,
      "id": "76cd3ab5-6387-45f1-b488-24734cc1beb5",
      "metadata": {
        "id": "76cd3ab5-6387-45f1-b488-24734cc1beb5"
      },
      "outputs": [],
      "source": [
        "dataset_config = BaseDatasetConfig(\n",
        "    formatter=\"ljspeech\", meta_file_train=transcriptions, path=dataset_path\n",
        ")"
      ]
    },
    {
      "cell_type": "markdown",
      "id": "ae82fd75",
      "metadata": {
        "id": "ae82fd75"
      },
      "source": [
        "## ✅ Train a new model\n",
        "\n",
        "Let's kick off a training run 🚀🚀🚀.\n",
        "\n",
        "Deciding on the model architecture you'd want to use is based on your needs and available resources. Each model architecture has it's pros and cons that define the run-time efficiency and the voice quality.\n",
        "We have many recipes under `TTS/recipes/` that provide a good starting point. For this tutorial, we will be using `GlowTTS`."
      ]
    },
    {
      "cell_type": "markdown",
      "id": "f5876e46-2aee-4bcf-b6b3-9e3c535c553f",
      "metadata": {
        "id": "f5876e46-2aee-4bcf-b6b3-9e3c535c553f"
      },
      "source": [
        "We will begin by initializing the model training configuration."
      ]
    },
    {
      "cell_type": "code",
      "source": [
        "!apt-get update\n",
        "!apt-get install espeak-ng -y"
      ],
      "metadata": {
        "collapsed": true,
        "id": "cTv8zvLLIHwQ",
        "outputId": "d872bb3e-0684-48b1-ad6e-961c0b54b4b9",
        "colab": {
          "base_uri": "https://localhost:8080/"
        }
      },
      "id": "cTv8zvLLIHwQ",
      "execution_count": 8,
      "outputs": [
        {
          "output_type": "stream",
          "name": "stdout",
          "text": [
            "\r0% [Working]\r            \rHit:1 https://cloud.r-project.org/bin/linux/ubuntu jammy-cran40/ InRelease\n",
            "\r0% [Connecting to archive.ubuntu.com (91.189.91.82)] [Connecting to security.ubuntu.com (185.125.190\r                                                                                                    \rHit:2 https://developer.download.nvidia.com/compute/cuda/repos/ubuntu2204/x86_64  InRelease\n",
            "Hit:3 http://archive.ubuntu.com/ubuntu jammy InRelease\n",
            "Get:4 http://archive.ubuntu.com/ubuntu jammy-updates InRelease [128 kB]\n",
            "Get:5 http://security.ubuntu.com/ubuntu jammy-security InRelease [129 kB]\n",
            "Get:6 https://r2u.stat.illinois.edu/ubuntu jammy InRelease [6,555 B]\n",
            "Get:7 http://archive.ubuntu.com/ubuntu jammy-backports InRelease [127 kB]\n",
            "Hit:8 https://ppa.launchpadcontent.net/deadsnakes/ppa/ubuntu jammy InRelease\n",
            "Hit:9 https://ppa.launchpadcontent.net/graphics-drivers/ppa/ubuntu jammy InRelease\n",
            "Hit:10 https://ppa.launchpadcontent.net/ubuntugis/ppa/ubuntu jammy InRelease\n",
            "Fetched 391 kB in 1s (285 kB/s)\n",
            "Reading package lists... Done\n",
            "W: Skipping acquire of configured file 'main/source/Sources' as repository 'https://r2u.stat.illinois.edu/ubuntu jammy InRelease' does not seem to provide it (sources.list entry misspelt?)\n",
            "Reading package lists... Done\n",
            "Building dependency tree... Done\n",
            "Reading state information... Done\n",
            "espeak-ng is already the newest version (1.50+dfsg-10ubuntu0.1).\n",
            "0 upgraded, 0 newly installed, 0 to remove and 22 not upgraded.\n"
          ]
        }
      ]
    },
    {
      "cell_type": "code",
      "source": [
        "!which espeak-ng\n",
        "!espeak-ng --version"
      ],
      "metadata": {
        "id": "qdEKbVv2ISSI",
        "outputId": "aae46a32-04d5-49f6-e1fa-fd7361802933",
        "colab": {
          "base_uri": "https://localhost:8080/"
        }
      },
      "id": "qdEKbVv2ISSI",
      "execution_count": 9,
      "outputs": [
        {
          "output_type": "stream",
          "name": "stdout",
          "text": [
            "/usr/bin/espeak-ng\n",
            "eSpeak NG text-to-speech: 1.50  Data at: /usr/lib/x86_64-linux-gnu/espeak-ng-data\n"
          ]
        }
      ]
    },
    {
      "cell_type": "code",
      "execution_count": 10,
      "id": "5483ca28-39d6-49f8-a18e-4fb53c50ad84",
      "metadata": {
        "id": "5483ca28-39d6-49f8-a18e-4fb53c50ad84"
      },
      "outputs": [],
      "source": [
        "# GlowTTSConfig: all model related values for training, validating and testing.\n",
        "from TTS.tts.configs.glow_tts_config import GlowTTSConfig\n",
        "\n",
        "config = GlowTTSConfig(\n",
        "    batch_size=16,\n",
        "    eval_batch_size=8,\n",
        "    num_loader_workers=4,\n",
        "    num_eval_loader_workers=4,\n",
        "    run_eval=True,\n",
        "    test_delay_epochs=-1,\n",
        "    epochs=100,\n",
        "    text_cleaner=\"phoneme_cleaners\",\n",
        "    use_phonemes=True,\n",
        "    phoneme_language=\"ro\", # Update the language code to ro-RO\n",
        "    phoneme_cache_path=os.path.join(output_path, \"phoneme_cache\"),\n",
        "    print_step=25,\n",
        "    print_eval=False,\n",
        "    mixed_precision=True,\n",
        "    output_path=output_path,\n",
        "    datasets=[dataset_config],\n",
        "    save_step=1000,\n",
        "   phonemizer=\"espeak\",\n",
        ")"
      ]
    },
    {
      "cell_type": "markdown",
      "id": "b93ed377-80b7-447b-bd92-106bffa777ee",
      "metadata": {
        "id": "b93ed377-80b7-447b-bd92-106bffa777ee"
      },
      "source": [
        "Next we will initialize the audio processor which is used for feature extraction and audio I/O."
      ]
    },
    {
      "cell_type": "code",
      "execution_count": 11,
      "id": "b1b12f61-f851-4565-84dd-7640947e04ab",
      "metadata": {
        "colab": {
          "base_uri": "https://localhost:8080/"
        },
        "collapsed": true,
        "id": "b1b12f61-f851-4565-84dd-7640947e04ab",
        "outputId": "c3be1b58-735b-4eb3-f571-bcbfafb85a36"
      },
      "outputs": [
        {
          "output_type": "stream",
          "name": "stdout",
          "text": [
            " > Setting up Audio Processor...\n",
            " | > sample_rate:22050\n",
            " | > resample:False\n",
            " | > num_mels:80\n",
            " | > log_func:np.log10\n",
            " | > min_level_db:-100\n",
            " | > frame_shift_ms:None\n",
            " | > frame_length_ms:None\n",
            " | > ref_level_db:20\n",
            " | > fft_size:1024\n",
            " | > power:1.5\n",
            " | > preemphasis:0.0\n",
            " | > griffin_lim_iters:60\n",
            " | > signal_norm:True\n",
            " | > symmetric_norm:True\n",
            " | > mel_fmin:0\n",
            " | > mel_fmax:None\n",
            " | > pitch_fmin:1.0\n",
            " | > pitch_fmax:640.0\n",
            " | > spec_gain:20.0\n",
            " | > stft_pad_mode:reflect\n",
            " | > max_norm:4.0\n",
            " | > clip_norm:True\n",
            " | > do_trim_silence:True\n",
            " | > trim_db:45\n",
            " | > do_sound_norm:False\n",
            " | > do_amp_to_db_linear:True\n",
            " | > do_amp_to_db_mel:True\n",
            " | > do_rms_norm:False\n",
            " | > db_level:None\n",
            " | > stats_path:None\n",
            " | > base:10\n",
            " | > hop_length:256\n",
            " | > win_length:1024\n"
          ]
        }
      ],
      "source": [
        "from TTS.utils.audio import AudioProcessor\n",
        "ap = AudioProcessor.init_from_config(config)\n",
        "# Modify sample rate if for a custom audio dataset:\n",
        "# ap.sample_rate = 22050\n"
      ]
    },
    {
      "cell_type": "markdown",
      "id": "1d461683-b05e-403f-815f-8007bda08c38",
      "metadata": {
        "id": "1d461683-b05e-403f-815f-8007bda08c38"
      },
      "source": [
        "Next we will initialize the tokenizer which is used to convert text to sequences of token IDs.  If characters are not defined in the config, default characters are passed to the config."
      ]
    },
    {
      "cell_type": "code",
      "execution_count": 12,
      "id": "014879b7-f18d-44c0-b24a-e10f8002113a",
      "metadata": {
        "collapsed": true,
        "id": "014879b7-f18d-44c0-b24a-e10f8002113a"
      },
      "outputs": [],
      "source": [
        "from TTS.tts.utils.text.tokenizer import TTSTokenizer\n",
        "tokenizer, config = TTSTokenizer.init_from_config(config)"
      ]
    },
    {
      "cell_type": "markdown",
      "id": "df3016e1-9e99-4c4f-94e3-fa89231fd978",
      "metadata": {
        "id": "df3016e1-9e99-4c4f-94e3-fa89231fd978"
      },
      "source": [
        "Next we will load data samples. Each sample is a list of ```[text, audio_file_path, speaker_name]```. You can define your custom sample loader returning the list of samples."
      ]
    },
    {
      "cell_type": "code",
      "execution_count": 13,
      "id": "cadd6ada-c8eb-4f79-b8fe-6d72850af5a7",
      "metadata": {
        "colab": {
          "base_uri": "https://localhost:8080/"
        },
        "id": "cadd6ada-c8eb-4f79-b8fe-6d72850af5a7",
        "outputId": "537b46bd-705c-4df8-dfb1-6df13a7840da"
      },
      "outputs": [
        {
          "output_type": "stream",
          "name": "stdout",
          "text": [
            " | > Found 2785 files in /content/drive/MyDrive/dataset_ro/wavs\n"
          ]
        }
      ],
      "source": [
        "from TTS.tts.datasets import load_tts_samples\n",
        "train_samples, eval_samples = load_tts_samples(\n",
        "    dataset_config,\n",
        "    eval_split=True,\n",
        "    eval_split_max_size=config.eval_split_max_size,\n",
        "    eval_split_size=config.eval_split_size,\n",
        ")"
      ]
    },
    {
      "cell_type": "code",
      "source": [
        "# Funcție care corectează dublarea extensiei .wav\n",
        "def fix_audio_paths(samples):\n",
        "    fixed_samples = []\n",
        "    for sample in samples:\n",
        "        corrected_path = sample[\"audio_file\"].replace(\".wav.wav\", \".wav\")\n",
        "        sample[\"audio_file\"] = corrected_path\n",
        "        fixed_samples.append(sample)\n",
        "    return fixed_samples\n",
        "\n",
        "# Aplică funcția după ce `train_samples` este generat\n",
        "train_samples = fix_audio_paths(train_samples)\n",
        "eval_samples = fix_audio_paths(eval_samples)\n",
        "\n",
        "# Verifică primele 5 căi după corectare\n",
        "for sample in train_samples[:5]:\n",
        "    print(\"✅ Cale corectată:\", sample[\"audio_file\"])"
      ],
      "metadata": {
        "collapsed": true,
        "id": "ZzT8qaF6eh_R",
        "outputId": "4e30f426-0d31-4b0f-9dfc-0fed4f0f0dcf",
        "colab": {
          "base_uri": "https://localhost:8080/"
        }
      },
      "id": "ZzT8qaF6eh_R",
      "execution_count": 14,
      "outputs": [
        {
          "output_type": "stream",
          "name": "stdout",
          "text": [
            "✅ Cale corectată: /content/drive/MyDrive/dataset_ro/wavs/2375.wav\n",
            "✅ Cale corectată: /content/drive/MyDrive/dataset_ro/wavs/334.wav\n",
            "✅ Cale corectată: /content/drive/MyDrive/dataset_ro/wavs/2330.wav\n",
            "✅ Cale corectată: /content/drive/MyDrive/dataset_ro/wavs/2708.wav\n",
            "✅ Cale corectată: /content/drive/MyDrive/dataset_ro/wavs/1520.wav\n"
          ]
        }
      ]
    },
    {
      "cell_type": "markdown",
      "id": "db8b451e-1fe1-4aa3-b69e-ab22b925bd19",
      "metadata": {
        "id": "db8b451e-1fe1-4aa3-b69e-ab22b925bd19"
      },
      "source": [
        "Now we're ready to initialize the model.\n",
        "\n",
        "Models take a config object and a speaker manager as input. Config defines the details of the model like the number of layers, the size of the embedding, etc. Speaker manager is used by multi-speaker models."
      ]
    },
    {
      "cell_type": "code",
      "execution_count": 15,
      "id": "ac2ffe3e-ad0c-443e-800c-9b076ee811b4",
      "metadata": {
        "id": "ac2ffe3e-ad0c-443e-800c-9b076ee811b4"
      },
      "outputs": [],
      "source": [
        "from TTS.tts.models.glow_tts import GlowTTS\n",
        "model = GlowTTS(config, ap, tokenizer, speaker_manager=None)"
      ]
    },
    {
      "cell_type": "markdown",
      "id": "e2832c56-889d-49a6-95b6-eb231892ecc6",
      "metadata": {
        "id": "e2832c56-889d-49a6-95b6-eb231892ecc6"
      },
      "source": [
        "Trainer provides a generic API to train all the 🐸TTS models with all its perks like mixed-precision training, distributed training, etc."
      ]
    },
    {
      "cell_type": "code",
      "execution_count": 16,
      "id": "0f609945-4fe0-4d0d-b95e-11d7bfb63ebe",
      "metadata": {
        "colab": {
          "base_uri": "https://localhost:8080/"
        },
        "collapsed": true,
        "id": "0f609945-4fe0-4d0d-b95e-11d7bfb63ebe",
        "outputId": "099fe37a-0e88-4300-c7c1-e9c0779acfd0"
      },
      "outputs": [
        {
          "output_type": "stream",
          "name": "stderr",
          "text": [
            " > Training Environment:\n",
            " | > Backend: Torch\n",
            " | > Mixed precision: True\n",
            " | > Precision: fp16\n",
            " | > Current device: 0\n",
            " | > Num. of GPUs: 1\n",
            " | > Num. of CPUs: 2\n",
            " | > Num. of Torch Threads: 1\n",
            " | > Torch seed: 54321\n",
            " | > Torch CUDNN: True\n",
            " | > Torch CUDNN deterministic: False\n",
            " | > Torch CUDNN benchmark: False\n",
            " | > Torch TF32 MatMul: False\n",
            " > Start Tensorboard: tensorboard --logdir=tts_train_dir/run-February-18-2025_02+58PM-0000000\n",
            "/usr/local/lib/python3.11/dist-packages/trainer/trainer.py:552: FutureWarning: `torch.cuda.amp.GradScaler(args...)` is deprecated. Please use `torch.amp.GradScaler('cuda', args...)` instead.\n",
            "  self.scaler = torch.cuda.amp.GradScaler()\n",
            "\n",
            " > Model has 28610257 parameters\n"
          ]
        }
      ],
      "source": [
        "from trainer import Trainer, TrainerArgs\n",
        "trainer = Trainer(\n",
        "    TrainerArgs(), config, output_path, model=model, train_samples=train_samples, eval_samples=eval_samples\n",
        ")"
      ]
    },
    {
      "cell_type": "markdown",
      "id": "5b320831-dd83-429b-bb6a-473f9d49d321",
      "metadata": {
        "id": "5b320831-dd83-429b-bb6a-473f9d49d321"
      },
      "source": [
        "### AND... 3,2,1... START TRAINING 🚀🚀🚀"
      ]
    },
    {
      "cell_type": "code",
      "source": [
        "\n",
        "# Calea către dataset\n",
        "met = \"/content/drive/MyDrive/dataset_ro/list.txt\"\n",
        "\n",
        "# Verifică existența fișierelor .wav\n",
        "missing_files = []\n",
        "\n",
        "with open(met, \"r\", encoding=\"utf-8\") as f:\n",
        "    lines = f.readlines()\n",
        "\n",
        "for line in lines:\n",
        "    parts = line.strip().split(\"|\")\n",
        "    if len(parts) >= 1:\n",
        "        audio_file = parts[0]\n",
        "        if not os.path.exists(audio_file):\n",
        "            missing_files.append(audio_file)\n",
        "\n",
        "# Afișează fișierele lipsă\n",
        "if missing_files:\n",
        "    print(\"⚠️ Fișiere lipsă:\", missing_files[:10])  # Afișează primele 10\n",
        "else:\n",
        "    print(\"✅ Toate fișierele .wav există!\")\n"
      ],
      "metadata": {
        "id": "lz1_7V4WTgMw",
        "outputId": "5f3d9598-cb45-4011-ace8-7d36e9ac5503",
        "colab": {
          "base_uri": "https://localhost:8080/"
        },
        "collapsed": true
      },
      "execution_count": 17,
      "outputs": [
        {
          "output_type": "stream",
          "name": "stdout",
          "text": [
            "✅ Toate fișierele .wav există!\n"
          ]
        }
      ],
      "id": "lz1_7V4WTgMw"
    },
    {
      "cell_type": "code",
      "source": [
        "!ls /content/drive/MyDrive/dataset_ro/wavs/\n"
      ],
      "metadata": {
        "collapsed": true,
        "id": "FBMisHqZYTTJ",
        "outputId": "de37271a-fc66-4a10-a679-6904d8e1ec8a",
        "colab": {
          "base_uri": "https://localhost:8080/"
        }
      },
      "id": "FBMisHqZYTTJ",
      "execution_count": 70,
      "outputs": [
        {
          "output_type": "stream",
          "name": "stdout",
          "text": [
            " 1000.wav   1315.wav   162.wav\t  1944.wav   2258.wav\t     2568.wav   374.wav   689.wav\n",
            " 1001.wav   1316.wav   1630.wav   1945.wav   2259.wav\t     2569.wav   375.wav   68.wav\n",
            " 1002.wav   1317.wav   1631.wav   1946.wav   225.wav\t     256.wav    376.wav   690.wav\n",
            " 1003.wav   1318.wav   1632.wav   1947.wav   2260.wav\t     2570.wav   377.wav   691.wav\n",
            " 1004.wav   1319.wav   1633.wav   1948.wav   2261.wav\t     2571.wav   378.wav   692.wav\n",
            " 1005.wav   131.wav    1634.wav   1949.wav   2262.wav\t     2572.wav   379.wav   693.wav\n",
            " 1006.wav   1320.wav   1635.wav   194.wav    2263.wav\t     2573.wav   37.wav\t  694.wav\n",
            " 1007.wav   1321.wav   1636.wav   1950.wav   2264.wav\t     2574.wav   380.wav   695.wav\n",
            " 1008.wav   1322.wav   1637.wav   1951.wav   2265.wav\t     2575.wav   381.wav   696.wav\n",
            " 1009.wav   1323.wav   1638.wav   1952.wav   2266.wav\t     2576.wav   382.wav   697.wav\n",
            " 100.wav    1324.wav   1639.wav   1953.wav   2267.wav\t     2577.wav   383.wav   698.wav\n",
            " 1010.wav   1325.wav   163.wav\t  1954.wav   2268.wav\t     2578.wav   384.wav   699.wav\n",
            " 1011.wav   1326.wav   1640.wav   1955.wav   2269.wav\t     2579.wav   385.wav   69.wav\n",
            " 1012.wav   1327.wav   1641.wav   1956.wav   226.wav\t     257.wav    386.wav   6.wav\n",
            " 1013.wav   1328.wav   1642.wav   1957.wav   2270.wav\t     2580.wav   387.wav   700.wav\n",
            " 1014.wav   1329.wav   1643.wav   1958.wav   2271.wav\t     2581.wav   388.wav   701.wav\n",
            " 1015.wav   132.wav    1644.wav   1959.wav   2272.wav\t     2582.wav   389.wav   702.wav\n",
            " 1016.wav   1330.wav   1645.wav   195.wav    2273.wav\t     2583.wav   38.wav\t  703.wav\n",
            " 1017.wav   1331.wav   1646.wav   1960.wav   2274.wav\t     2584.wav   390.wav   704.wav\n",
            " 1018.wav   1332.wav   1647.wav   1961.wav   2275.wav\t     2585.wav   391.wav   705.wav\n",
            " 1019.wav   1333.wav   1648.wav   1962.wav   2276.wav\t     2586.wav   392.wav   706.wav\n",
            " 101.wav    1334.wav   1649.wav   1963.wav   2277.wav\t     2587.wav   393.wav   707.wav\n",
            " 1020.wav   1335.wav   164.wav\t  1964.wav   2278.wav\t     2588.wav   394.wav   708.wav\n",
            " 1021.wav   1336.wav   1650.wav   1965.wav   2279.wav\t     2589.wav   395.wav   709.wav\n",
            " 1022.wav   1337.wav   1651.wav   1966.wav   227.wav\t     258.wav    396.wav   70.wav\n",
            " 1023.wav   1338.wav   1652.wav   1967.wav   2280.wav\t     2590.wav   397.wav   710.wav\n",
            " 1024.wav   1339.wav   1653.wav   1968.wav   2281.wav\t     2591.wav   398.wav   711.wav\n",
            " 1025.wav   133.wav    1654.wav   1969.wav   2282.wav\t     2592.wav   399.wav   712.wav\n",
            " 1026.wav   1340.wav   1655.wav   196.wav    2283.wav\t     2593.wav   39.wav\t  713.wav\n",
            " 1027.wav   1341.wav   1656.wav   1970.wav   2284.wav\t     2594.wav   3.wav\t  714.wav\n",
            " 1028.wav   1342.wav   1657.wav   1971.wav   2285.wav\t     2595.wav   400.wav   715.wav\n",
            " 1029.wav   1343.wav   1658.wav   1972.wav   2286.wav\t     2596.wav   401.wav   716.wav\n",
            " 102.wav    1344.wav   1659.wav   1973.wav   2287.wav\t     2597.wav   402.wav   717.wav\n",
            " 1030.wav   1345.wav   165.wav\t  1974.wav   2288.wav\t     2598.wav   403.wav   718.wav\n",
            " 1031.wav   1346.wav   1660.wav   1975.wav   2289.wav\t     2599.wav   404.wav   719.wav\n",
            " 1032.wav   1347.wav   1661.wav   1976.wav   228.wav\t     259.wav    405.wav   71.wav\n",
            " 1033.wav   1348.wav   1662.wav   1977.wav   2290.wav\t     25.wav     406.wav   720.wav\n",
            " 1034.wav   1349.wav   1663.wav   1978.wav   2291.wav\t     2600.wav   407.wav   721.wav\n",
            " 1035.wav   134.wav    1664.wav   1979.wav   2292.wav\t     2601.wav   408.wav   722.wav\n",
            " 1036.wav   1350.wav   1665.wav   197.wav    2293.wav\t     2602.wav   409.wav   723.wav\n",
            " 1037.wav   1351.wav   1666.wav   1980.wav   2294.wav\t     2603.wav   40.wav\t  724.wav\n",
            " 1038.wav   1352.wav   1667.wav   1981.wav   2295.wav\t     2604.wav   410.wav   725.wav\n",
            " 1039.wav   1353.wav   1668.wav   1982.wav   2296.wav\t     2605.wav   411.wav   726.wav\n",
            " 103.wav    1354.wav   1669.wav   1983.wav   2297.wav\t     2606.wav   412.wav   727.wav\n",
            " 1040.wav   1355.wav   166.wav\t  1984.wav   2298.wav\t     2607.wav   413.wav   728.wav\n",
            " 1041.wav   1356.wav   1670.wav   1985.wav   2299.wav\t     2608.wav   414.wav   729.wav\n",
            " 1042.wav   1357.wav   1671.wav   1986.wav   229.wav\t     2609.wav   415.wav   72.wav\n",
            " 1043.wav   1358.wav   1672.wav   1987.wav   22.wav\t     260.wav    416.wav   730.wav\n",
            " 1044.wav   1359.wav   1673.wav   1988.wav   2300.wav\t     2610.wav   417.wav   731.wav\n",
            " 1045.wav   135.wav    1674.wav   1989.wav   2301.wav\t     2611.wav   418.wav   732.wav\n",
            " 1046.wav   1360.wav   1675.wav   198.wav    2302.wav\t     2612.wav   419.wav   733.wav\n",
            " 1047.wav   1361.wav   1676.wav   1990.wav   2303.wav\t     2613.wav   41.wav\t  734.wav\n",
            " 1048.wav   1362.wav   1677.wav   1991.wav   2304.wav\t     2614.wav   420.wav   735.wav\n",
            " 1049.wav   1363.wav   1678.wav   1992.wav   2305.wav\t     2615.wav   421.wav   736.wav\n",
            " 104.wav    1364.wav   1679.wav   1993.wav   2306.wav\t     2616.wav   422.wav   737.wav\n",
            " 1050.wav   1365.wav   167.wav\t  1994.wav   2307.wav\t     2617.wav   423.wav   738.wav\n",
            " 1051.wav   1366.wav   1680.wav   1995.wav   2308.wav\t     2618.wav   424.wav   739.wav\n",
            " 1052.wav   1367.wav   1681.wav   1996.wav   2309.wav\t     2619.wav   425.wav   73.wav\n",
            " 1053.wav   1368.wav   1682.wav   1997.wav   230.wav\t     261.wav    426.wav   740.wav\n",
            " 1054.wav   1369.wav   1683.wav   1998.wav   2310.wav\t     2620.wav   427.wav   741.wav\n",
            " 1055.wav   136.wav    1684.wav   1999.wav   2311.wav\t     2621.wav   428.wav   742.wav\n",
            " 1056.wav   1370.wav   1685.wav   199.wav    2312.wav\t     2622.wav   429.wav   743.wav\n",
            " 1057.wav   1371.wav   1686.wav   19.wav     2313.wav\t     2623.wav   42.wav\t  744.wav\n",
            " 1058.wav   1372.wav   1687.wav   1.wav      2314.wav\t     2624.wav   430.wav   745.wav\n",
            " 1059.wav   1373.wav   1688.wav   2000.wav   2315.wav\t     2625.wav   431.wav   746.wav\n",
            " 105.wav    1374.wav   1689.wav   2001.wav   2316.wav\t     2626.wav   432.wav   747.wav\n",
            " 1060.wav   1375.wav   168.wav\t  2002.wav   2317.wav\t     2627.wav   433.wav   748.wav\n",
            " 1061.wav   1376.wav   1690.wav   2003.wav   2318.wav\t     2628.wav   434.wav   749.wav\n",
            " 1062.wav   1377.wav   1691.wav   2004.wav   2319.wav\t     2629.wav   435.wav   74.wav\n",
            " 1063.wav   1378.wav   1692.wav   2005.wav   231.wav\t     262.wav    436.wav   750.wav\n",
            " 1064.wav   1379.wav   1693.wav   2006.wav   2320.wav\t     2630.wav   437.wav   751.wav\n",
            " 1065.wav   137.wav    1694.wav   2007.wav   2321.wav\t     2631.wav   438.wav   752.wav\n",
            " 1066.wav   1380.wav   1695.wav   2008.wav   2322.wav\t     2632.wav   439.wav   753.wav\n",
            " 1067.wav   1381.wav   1696.wav   2009.wav   2323.wav\t     2633.wav   43.wav\t  754.wav\n",
            " 1068.wav   1382.wav   1697.wav   200.wav    2324.wav\t     2634.wav   440.wav   755.wav\n",
            " 1069.wav   1383.wav   1698.wav   2010.wav   2325.wav\t     2635.wav   441.wav   756.wav\n",
            " 106.wav    1384.wav   1699.wav   2011.wav   2326.wav\t     2636.wav   442.wav   757.wav\n",
            " 1070.wav   1385.wav   169.wav\t  2012.wav   2327.wav\t     2637.wav   443.wav   758.wav\n",
            " 1071.wav   1386.wav   16.wav\t  2013.wav   2328.wav\t     2638.wav   444.wav   759.wav\n",
            " 1072.wav   1387.wav   1700.wav   2014.wav   2329.wav\t     2639.wav   445.wav   75.wav\n",
            " 1073.wav   1388.wav   1701.wav   2015.wav   232.wav\t     263.wav    446.wav   760.wav\n",
            " 1074.wav   1389.wav   1702.wav   2016.wav   2330.wav\t     2640.wav   447.wav   761.wav\n",
            " 1075.wav   138.wav    1703.wav   2017.wav   2331.wav\t     2641.wav   448.wav   762.wav\n",
            " 1076.wav   1390.wav   1704.wav   2018.wav   2332.wav\t     2642.wav   449.wav   763.wav\n",
            " 1077.wav   1391.wav   1705.wav   2019.wav   2333.wav\t     2643.wav   44.wav\t  764.wav\n",
            " 1078.wav   1392.wav   1706.wav   201.wav    2334.wav\t     2644.wav   450.wav   765.wav\n",
            " 1079.wav   1393.wav   1707.wav   2020.wav   2335.wav\t     2645.wav   451.wav   766.wav\n",
            " 107.wav    1394.wav   1708.wav   2021.wav   2336.wav\t     2646.wav   452.wav   767.wav\n",
            " 1080.wav   1395.wav   1709.wav   2022.wav   2337.wav\t     2647.wav   453.wav   768.wav\n",
            " 1081.wav   1396.wav   170.wav\t  2023.wav   2338.wav\t     2648.wav   454.wav   769.wav\n",
            " 1082.wav   1397.wav   1710.wav   2024.wav   2339.wav\t     2649.wav   455.wav   76.wav\n",
            " 1083.wav   1398.wav   1711.wav   2025.wav   233.wav\t     264.wav    456.wav   770.wav\n",
            " 1084.wav   1399.wav   1712.wav   2026.wav   2340.wav\t     2650.wav   457.wav   771.wav\n",
            " 1085.wav   139.wav    1713.wav   2027.wav   2341.wav\t     2651.wav   458.wav   772.wav\n",
            " 1086.wav   13.wav     1714.wav   2028.wav   2342.wav\t     2652.wav   459.wav   773.wav\n",
            " 1087.wav   1400.wav   1715.wav   2029.wav   2343.wav\t     2653.wav   45.wav\t  774.wav\n",
            " 1088.wav   1401.wav   1716.wav   202.wav    2344.wav\t     2654.wav   460.wav   775.wav\n",
            " 1089.wav   1402.wav   1717.wav   2030.wav   2345.wav\t     2655.wav   461.wav   776.wav\n",
            " 108.wav    1403.wav   1718.wav   2031.wav   2346.wav\t     2656.wav   462.wav   777.wav\n",
            " 1090.wav   1404.wav   1719.wav   2032.wav   2347.wav\t     2657.wav   463.wav   778.wav\n",
            " 1091.wav   1405.wav   171.wav\t  2033.wav   2348.wav\t     2658.wav   464.wav   779.wav\n",
            " 1092.wav   1406.wav   1720.wav   2034.wav   2349.wav\t     2659.wav   465.wav   77.wav\n",
            " 1093.wav   1407.wav   1721.wav   2035.wav   234.wav\t     265.wav    466.wav   780.wav\n",
            " 1094.wav   1408.wav   1722.wav   2036.wav   2350.wav\t     2660.wav   467.wav   781.wav\n",
            " 1095.wav   1409.wav   1723.wav   2037.wav   2351.wav\t     2661.wav   468.wav   782.wav\n",
            " 1096.wav   140.wav    1724.wav   2038.wav   2352.wav\t     2662.wav   469.wav   783.wav\n",
            " 1097.wav   1410.wav   1725.wav   2039.wav   2353.wav\t     2663.wav   46.wav\t  784.wav\n",
            " 1098.wav   1411.wav   1726.wav   203.wav    2354.wav\t     2664.wav   470.wav   785.wav\n",
            " 1099.wav   1412.wav   1727.wav   2040.wav   2355.wav\t     2665.wav   471.wav   786.wav\n",
            " 109.wav    1413.wav   1728.wav   2041.wav   2356.wav\t     2666.wav   472.wav   787.wav\n",
            " 10.wav     1414.wav   1729.wav   2042.wav   2357.wav\t     2667.wav   473.wav   788.wav\n",
            " 1100.wav   1415.wav   172.wav\t  2043.wav   2358.wav\t     2668.wav   474.wav   789.wav\n",
            " 1101.wav   1416.wav   1730.wav   2044.wav   2359.wav\t     2669.wav   475.wav   78.wav\n",
            " 1102.wav   1417.wav   1731.wav   2045.wav   235.wav\t     266.wav    476.wav   790.wav\n",
            " 1103.wav   1418.wav   1732.wav   2046.wav   2360.wav\t     2670.wav   477.wav   791.wav\n",
            " 1104.wav   1419.wav   1733.wav   2047.wav   2361.wav\t     2671.wav   478.wav   792.wav\n",
            " 1105.wav   141.wav    1734.wav   2048.wav   2362.wav\t     2672.wav   479.wav   793.wav\n",
            " 1106.wav   1420.wav   1735.wav   2049.wav   2363.wav\t     2673.wav   47.wav\t  794.wav\n",
            " 1107.wav   1421.wav   1736.wav   204.wav    2364.wav\t     2674.wav   480.wav   795.wav\n",
            " 1108.wav   1422.wav   1737.wav   2050.wav   2365.wav\t     2675.wav   481.wav   796.wav\n",
            " 1109.wav   1423.wav   1738.wav   2051.wav   2366.wav\t     2676.wav   482.wav   797.wav\n",
            " 110.wav    1424.wav   1739.wav   2052.wav   2367.wav\t     2677.wav   483.wav   798.wav\n",
            " 1110.wav   1425.wav   173.wav\t  2053.wav   2368.wav\t     2678.wav   484.wav   799.wav\n",
            " 1111.wav   1426.wav   1740.wav   2054.wav   2369.wav\t     2679.wav   485.wav   79.wav\n",
            " 1112.wav   1427.wav   1741.wav   2055.wav   236.wav\t     267.wav    486.wav   7.wav\n",
            " 1113.wav   1428.wav   1742.wav   2056.wav   2370.wav\t     2680.wav   487.wav   800.wav\n",
            " 1114.wav   1429.wav   1743.wav   2057.wav   2371.wav\t     2681.wav   488.wav   801.wav\n",
            " 1115.wav   142.wav    1744.wav   2058.wav   2372.wav\t     2682.wav   489.wav   802.wav\n",
            " 1116.wav   1430.wav   1745.wav   2059.wav   2373.wav\t     2683.wav   48.wav\t  803.wav\n",
            " 1117.wav   1431.wav   1746.wav   205.wav    2374.wav\t     2684.wav   490.wav   804.wav\n",
            " 1118.wav   1432.wav   1747.wav   2060.wav   2375.wav\t     2685.wav   491.wav   805.wav\n",
            " 1119.wav   1433.wav   1748.wav   2061.wav   2376.wav\t     2686.wav   492.wav   806.wav\n",
            " 111.wav    1434.wav   1749.wav   2062.wav   2377.wav\t     2687.wav   493.wav   807.wav\n",
            " 1120.wav   1435.wav   174.wav\t  2063.wav   2378.wav\t     2688.wav   494.wav   808.wav\n",
            " 1121.wav   1436.wav   1750.wav   2064.wav   2379.wav\t     2689.wav   495.wav   809.wav\n",
            " 1122.wav   1437.wav   1751.wav   2065.wav   237.wav\t     268.wav    496.wav   80.wav\n",
            " 1123.wav   1438.wav   1752.wav   2066.wav   2380.wav\t     2690.wav   497.wav   810.wav\n",
            " 1124.wav   1439.wav   1753.wav   2067.wav   2381.wav\t     2691.wav   498.wav   811.wav\n",
            " 1125.wav   143.wav    1754.wav   2068.wav   2382.wav\t     2692.wav   499.wav   812.wav\n",
            " 1126.wav   1440.wav   1755.wav   2069.wav   2383.wav\t     2693.wav   49.wav\t  813.wav\n",
            " 1127.wav   1441.wav   1756.wav   206.wav    2384.wav\t     2694.wav   4.wav\t  814.wav\n",
            " 1128.wav   1442.wav   1757.wav   2070.wav   2385.wav\t     2695.wav   500.wav   815.wav\n",
            " 1129.wav   1443.wav   1758.wav   2071.wav   2386.wav\t     2696.wav   501.wav   816.wav\n",
            " 112.wav    1444.wav   1759.wav   2072.wav   2387.wav\t     2697.wav   502.wav   817.wav\n",
            " 1130.wav   1445.wav   175.wav\t  2073.wav   2388.wav\t     2698.wav   503.wav   818.wav\n",
            " 1131.wav   1446.wav   1760.wav   2074.wav   2389.wav\t     2699.wav   504.wav   819.wav\n",
            " 1132.wav   1447.wav   1761.wav   2075.wav   238.wav\t     269.wav    505.wav   81.wav\n",
            " 1133.wav   1448.wav   1762.wav   2076.wav   2390.wav\t     26.wav     506.wav   820.wav\n",
            " 1134.wav   1449.wav   1763.wav   2077.wav   2391.wav\t     2700.wav   507.wav   821.wav\n",
            " 1135.wav   144.wav    1764.wav   2078.wav   2392.wav\t     2701.wav   508.wav   822.wav\n",
            " 1136.wav   1450.wav   1765.wav   2079.wav   2393.wav\t     2702.wav   509.wav   823.wav\n",
            " 1137.wav   1451.wav   1766.wav   207.wav    2394.wav\t     2703.wav   50.wav\t  824.wav\n",
            " 1138.wav   1452.wav   1767.wav   2080.wav   2395.wav\t     2704.wav   510.wav   825.wav\n",
            " 1139.wav   1453.wav   1768.wav   2081.wav   2396.wav\t     2705.wav   511.wav   826.wav\n",
            " 113.wav    1454.wav   1769.wav   2082.wav   2397.wav\t     2706.wav   512.wav   827.wav\n",
            " 1140.wav   1455.wav   176.wav\t  2083.wav   2398.wav\t     2707.wav   513.wav   828.wav\n",
            " 1141.wav   1456.wav   1770.wav   2084.wav   2399.wav\t     2708.wav   514.wav   829.wav\n",
            " 1142.wav   1457.wav   1771.wav   2085.wav   239.wav\t     2709.wav   515.wav   82.wav\n",
            " 1143.wav   1458.wav   1772.wav   2086.wav   23.wav\t     270.wav    516.wav   830.wav\n",
            " 1144.wav   1459.wav   1773.wav   2087.wav   2400.wav\t     2710.wav   517.wav   831.wav\n",
            " 1145.wav   145.wav    1774.wav   2088.wav  '2401 (1).wav'   2711.wav   518.wav   832.wav\n",
            " 1146.wav   1460.wav   1775.wav   2089.wav   2401.wav\t     2712.wav   519.wav   833.wav\n",
            " 1147.wav   1461.wav   1776.wav   208.wav   '240 (1).wav'    2713.wav   51.wav\t  834.wav\n",
            " 1148.wav   1462.wav   1777.wav   2090.wav   2402.wav\t     2714.wav   520.wav   835.wav\n",
            " 1149.wav   1463.wav   1778.wav   2091.wav  '2403 (1).wav'   2715.wav   521.wav   836.wav\n",
            " 114.wav    1464.wav   1779.wav   2092.wav   2403.wav\t     2716.wav   522.wav   837.wav\n",
            " 1150.wav   1465.wav   177.wav\t  2093.wav  '2404 (1).wav'   2717.wav   523.wav   838.wav\n",
            " 1151.wav   1466.wav   1780.wav   2094.wav   2404.wav\t     2718.wav   524.wav   839.wav\n",
            " 1152.wav   1467.wav   1781.wav   2095.wav   2405.wav\t     2719.wav   525.wav   83.wav\n",
            " 1153.wav   1468.wav   1782.wav   2096.wav   2406.wav\t     271.wav    526.wav   840.wav\n",
            " 1154.wav   1469.wav   1783.wav   2097.wav   2407.wav\t     2720.wav   527.wav   841.wav\n",
            " 1155.wav   146.wav    1784.wav   2098.wav  '2408 (1).wav'   2721.wav   528.wav   842.wav\n",
            " 1156.wav   1470.wav   1785.wav   2099.wav   2408.wav\t     2722.wav   529.wav   843.wav\n",
            " 1157.wav   1471.wav   1786.wav   209.wav    2409.wav\t     2723.wav   52.wav\t  844.wav\n",
            " 1158.wav   1472.wav   1787.wav   20.wav     240.wav\t     2724.wav   530.wav   845.wav\n",
            " 1159.wav   1473.wav   1788.wav   2100.wav   2410.wav\t     2725.wav   531.wav   846.wav\n",
            " 115.wav    1474.wav   1789.wav   2101.wav   2411.wav\t     2726.wav   532.wav   847.wav\n",
            " 1160.wav   1475.wav   178.wav\t  2102.wav   2412.wav\t     2727.wav   533.wav   848.wav\n",
            " 1161.wav   1476.wav   1790.wav   2103.wav   2413.wav\t     2728.wav   534.wav   849.wav\n",
            " 1162.wav   1477.wav   1791.wav   2104.wav   2414.wav\t     2729.wav   535.wav   84.wav\n",
            " 1163.wav   1478.wav   1792.wav   2105.wav   2415.wav\t     272.wav    536.wav   850.wav\n",
            " 1164.wav   1479.wav   1793.wav   2106.wav   2416.wav\t     2730.wav   537.wav   851.wav\n",
            " 1165.wav   147.wav    1794.wav   2107.wav   2417.wav\t     2731.wav   538.wav   852.wav\n",
            " 1166.wav   1480.wav   1795.wav   2108.wav   2418.wav\t     2732.wav   539.wav   853.wav\n",
            " 1167.wav   1481.wav   1796.wav   2109.wav   2419.wav\t     2733.wav   53.wav\t  854.wav\n",
            " 1168.wav   1482.wav   1797.wav   210.wav    241.wav\t     2734.wav   540.wav   855.wav\n",
            " 1169.wav   1483.wav   1798.wav   2110.wav   2420.wav\t     2735.wav   541.wav   856.wav\n",
            " 116.wav    1484.wav   1799.wav   2111.wav   2421.wav\t     2736.wav   542.wav   857.wav\n",
            " 1170.wav   1485.wav   179.wav\t  2112.wav   2422.wav\t     2737.wav   543.wav   858.wav\n",
            " 1171.wav   1486.wav   17.wav\t  2113.wav   2423.wav\t     2738.wav   544.wav   859.wav\n",
            " 1172.wav   1487.wav   1800.wav   2114.wav   2424.wav\t     2739.wav   545.wav   85.wav\n",
            " 1173.wav   1488.wav   1801.wav   2115.wav   2425.wav\t     273.wav    546.wav   860.wav\n",
            " 1174.wav   1489.wav   1802.wav   2116.wav   2426.wav\t     2740.wav   547.wav   861.wav\n",
            " 1175.wav   148.wav    1803.wav   2117.wav   2427.wav\t     2741.wav   548.wav   862.wav\n",
            " 1176.wav   1490.wav   1804.wav   2118.wav   2428.wav\t     2742.wav   549.wav   863.wav\n",
            " 1177.wav   1491.wav   1805.wav   2119.wav   2429.wav\t     2743.wav   54.wav\t  864.wav\n",
            " 1178.wav   1492.wav   1806.wav   211.wav    242.wav\t     2744.wav   550.wav   865.wav\n",
            " 1179.wav   1493.wav   1807.wav   2120.wav   2430.wav\t     2745.wav   551.wav   866.wav\n",
            " 117.wav    1494.wav   1808.wav   2121.wav   2431.wav\t     2746.wav   552.wav   867.wav\n",
            " 1180.wav   1495.wav   1809.wav   2122.wav   2432.wav\t     2747.wav   553.wav   868.wav\n",
            " 1181.wav   1496.wav   180.wav\t  2123.wav   2433.wav\t     2748.wav   554.wav   869.wav\n",
            " 1182.wav   1497.wav   1810.wav   2124.wav   2434.wav\t     2749.wav   555.wav   86.wav\n",
            " 1183.wav   1498.wav   1811.wav   2125.wav   2435.wav\t     274.wav    556.wav   870.wav\n",
            " 1184.wav   1499.wav   1812.wav   2126.wav   2436.wav\t     2750.wav   557.wav   871.wav\n",
            " 1185.wav   149.wav    1813.wav   2127.wav   2437.wav\t     2751.wav   558.wav   872.wav\n",
            " 1186.wav   14.wav     1814.wav   2128.wav   2438.wav\t     2752.wav   559.wav   873.wav\n",
            " 1187.wav   1500.wav   1815.wav   2129.wav   2439.wav\t     2753.wav   55.wav\t  874.wav\n",
            " 1188.wav   1501.wav   1816.wav   212.wav    243.wav\t     2754.wav   560.wav   875.wav\n",
            " 1189.wav   1502.wav   1817.wav   2130.wav   2440.wav\t     2755.wav   561.wav   876.wav\n",
            " 118.wav    1503.wav   1818.wav   2131.wav   2441.wav\t     2756.wav   562.wav   877.wav\n",
            " 1190.wav   1504.wav   1819.wav   2132.wav   2442.wav\t     2757.wav   563.wav   878.wav\n",
            " 1191.wav   1505.wav   181.wav\t  2133.wav   2443.wav\t     2758.wav   564.wav   879.wav\n",
            " 1192.wav   1506.wav   1820.wav   2134.wav   2444.wav\t     2759.wav   565.wav   87.wav\n",
            " 1193.wav   1507.wav   1821.wav   2135.wav   2445.wav\t     275.wav    566.wav   880.wav\n",
            " 1194.wav   1508.wav   1822.wav   2136.wav   2446.wav\t     2760.wav   567.wav   881.wav\n",
            " 1195.wav   1509.wav   1823.wav   2137.wav   2447.wav\t     2761.wav   568.wav   882.wav\n",
            " 1196.wav   150.wav    1824.wav   2138.wav   2448.wav\t     2762.wav   569.wav   883.wav\n",
            " 1197.wav   1510.wav   1825.wav   2139.wav   2449.wav\t     2763.wav   56.wav\t  884.wav\n",
            " 1198.wav   1511.wav   1826.wav   213.wav    244.wav\t     2764.wav   570.wav   885.wav\n",
            " 1199.wav   1512.wav   1827.wav   2140.wav   2450.wav\t     2765.wav   571.wav   886.wav\n",
            " 119.wav    1513.wav   1828.wav   2141.wav   2451.wav\t     2766.wav   572.wav   887.wav\n",
            " 11.wav     1514.wav   1829.wav   2142.wav   2452.wav\t     2767.wav   573.wav   888.wav\n",
            " 1200.wav   1515.wav   182.wav\t  2143.wav   2453.wav\t     2768.wav   574.wav   889.wav\n",
            " 1201.wav   1516.wav   1830.wav   2144.wav   2454.wav\t     2769.wav   575.wav   88.wav\n",
            " 1202.wav   1517.wav   1831.wav   2145.wav   2455.wav\t     276.wav    576.wav   890.wav\n",
            " 1203.wav   1518.wav   1832.wav   2146.wav   2456.wav\t     2770.wav   577.wav   891.wav\n",
            " 1204.wav   1519.wav   1833.wav   2147.wav   2457.wav\t     2771.wav   578.wav   892.wav\n",
            " 1205.wav   151.wav    1834.wav   2148.wav   2458.wav\t     2772.wav   579.wav   893.wav\n",
            " 1206.wav   1520.wav   1835.wav   2149.wav   2459.wav\t     2773.wav   57.wav\t  894.wav\n",
            " 1207.wav   1521.wav   1836.wav   214.wav    245.wav\t     2774.wav   580.wav   895.wav\n",
            " 1208.wav   1522.wav   1837.wav   2150.wav   2460.wav\t     2775.wav   581.wav   896.wav\n",
            " 1209.wav   1523.wav   1838.wav   2151.wav   2461.wav\t     2776.wav   582.wav   897.wav\n",
            " 120.wav    1524.wav   1839.wav   2152.wav   2462.wav\t     2777.wav   583.wav   898.wav\n",
            " 1210.wav   1525.wav   183.wav\t  2153.wav   2463.wav\t     2778.wav   584.wav   899.wav\n",
            " 1211.wav   1526.wav   1840.wav   2154.wav   2464.wav\t     2779.wav   585.wav   89.wav\n",
            " 1212.wav   1527.wav   1841.wav   2155.wav   2465.wav\t     277.wav    586.wav   8.wav\n",
            " 1213.wav   1528.wav   1842.wav   2156.wav   2466.wav\t     2780.wav   587.wav   900.wav\n",
            " 1214.wav   1529.wav   1843.wav   2157.wav   2467.wav\t     2781.wav   588.wav   901.wav\n",
            " 1215.wav   152.wav    1844.wav   2158.wav   2468.wav\t     2782.wav   589.wav   902.wav\n",
            " 1216.wav   1530.wav   1845.wav   2159.wav   2469.wav\t     2783.wav   58.wav\t  903.wav\n",
            " 1217.wav   1531.wav   1846.wav   215.wav    246.wav\t     2784.wav   590.wav   904.wav\n",
            " 1218.wav   1532.wav   1847.wav   2160.wav   2470.wav\t     2785.wav   591.wav   905.wav\n",
            " 1219.wav   1533.wav   1848.wav   2161.wav   2471.wav\t     278.wav    592.wav   906.wav\n",
            " 121.wav    1534.wav   1849.wav   2162.wav   2472.wav\t     279.wav    593.wav   907.wav\n",
            " 1220.wav   1535.wav   184.wav\t  2163.wav   2473.wav\t     27.wav     594.wav   908.wav\n",
            " 1221.wav   1536.wav   1850.wav   2164.wav   2474.wav\t     280.wav    595.wav   909.wav\n",
            " 1222.wav   1537.wav   1851.wav   2165.wav   2475.wav\t     281.wav    596.wav   90.wav\n",
            " 1223.wav   1538.wav   1852.wav   2166.wav   2476.wav\t     282.wav    597.wav   910.wav\n",
            " 1224.wav   1539.wav   1853.wav   2167.wav   2477.wav\t     283.wav    598.wav   911.wav\n",
            " 1225.wav   153.wav    1854.wav   2168.wav   2478.wav\t     284.wav    599.wav   912.wav\n",
            " 1226.wav   1540.wav   1855.wav   2169.wav   2479.wav\t     285.wav    59.wav\t  913.wav\n",
            " 1227.wav   1541.wav   1856.wav   216.wav    247.wav\t     286.wav    5.wav\t  914.wav\n",
            " 1228.wav   1542.wav   1857.wav   2170.wav   2480.wav\t     287.wav    600.wav   915.wav\n",
            " 1229.wav   1543.wav   1858.wav   2171.wav   2481.wav\t     288.wav    601.wav   916.wav\n",
            " 122.wav    1544.wav   1859.wav   2172.wav   2482.wav\t     289.wav    602.wav   917.wav\n",
            " 1230.wav   1545.wav   185.wav\t  2173.wav   2483.wav\t     28.wav     603.wav   918.wav\n",
            " 1231.wav   1546.wav   1860.wav   2174.wav   2484.wav\t     290.wav    604.wav   919.wav\n",
            " 1232.wav   1547.wav   1861.wav   2175.wav   2485.wav\t     291.wav    605.wav   91.wav\n",
            " 1233.wav   1548.wav   1862.wav   2176.wav   2486.wav\t     292.wav    606.wav   920.wav\n",
            " 1234.wav   1549.wav   1863.wav   2177.wav   2487.wav\t     293.wav    607.wav   921.wav\n",
            " 1235.wav   154.wav    1864.wav   2178.wav   2488.wav\t     294.wav    608.wav   922.wav\n",
            " 1236.wav   1550.wav   1865.wav   2179.wav   2489.wav\t     295.wav    609.wav   923.wav\n",
            " 1237.wav   1551.wav   1866.wav   217.wav    248.wav\t     296.wav    60.wav\t  924.wav\n",
            " 1238.wav   1552.wav   1867.wav   2180.wav   2490.wav\t     297.wav    610.wav   925.wav\n",
            " 1239.wav   1553.wav   1868.wav   2181.wav   2491.wav\t     298.wav    611.wav   926.wav\n",
            " 123.wav    1554.wav   1869.wav   2182.wav   2492.wav\t     299.wav    612.wav   927.wav\n",
            " 1240.wav   1555.wav   186.wav\t  2183.wav   2493.wav\t     29.wav     613.wav   928.wav\n",
            " 1241.wav   1556.wav   1870.wav   2184.wav   2494.wav\t     2.wav      614.wav   929.wav\n",
            " 1242.wav   1557.wav   1871.wav   2185.wav   2495.wav\t     300.wav    615.wav   92.wav\n",
            " 1243.wav   1558.wav   1872.wav   2186.wav   2496.wav\t     301.wav    616.wav   930.wav\n",
            " 1244.wav   1559.wav   1873.wav   2187.wav   2497.wav\t     302.wav    617.wav   931.wav\n",
            " 1245.wav   155.wav    1874.wav   2188.wav   2498.wav\t     303.wav    618.wav   932.wav\n",
            " 1246.wav   1560.wav   1875.wav   2189.wav   2499.wav\t     304.wav    619.wav   933.wav\n",
            " 1247.wav   1561.wav   1876.wav   218.wav    249.wav\t     305.wav    61.wav\t  934.wav\n",
            " 1248.wav   1562.wav   1877.wav   2190.wav   24.wav\t     306.wav    620.wav   935.wav\n",
            " 1249.wav   1563.wav   1878.wav   2191.wav   2500.wav\t     307.wav    621.wav   936.wav\n",
            " 124.wav    1564.wav   1879.wav   2192.wav   2501.wav\t     308.wav    622.wav   937.wav\n",
            " 1250.wav   1565.wav   187.wav\t  2193.wav   2502.wav\t     309.wav    623.wav   938.wav\n",
            " 1251.wav   1566.wav   1880.wav   2194.wav   2503.wav\t     30.wav     624.wav   939.wav\n",
            " 1252.wav   1567.wav   1881.wav   2195.wav   2504.wav\t     310.wav    625.wav   93.wav\n",
            " 1253.wav   1568.wav   1882.wav   2196.wav   2505.wav\t     311.wav    626.wav   940.wav\n",
            " 1254.wav   1569.wav   1883.wav   2197.wav   2506.wav\t     312.wav    627.wav   941.wav\n",
            " 1255.wav   156.wav    1884.wav   2198.wav   2507.wav\t     313.wav    628.wav   942.wav\n",
            " 1256.wav   1570.wav   1885.wav   2199.wav   2508.wav\t     314.wav    629.wav   943.wav\n",
            " 1257.wav   1571.wav   1886.wav   219.wav    2509.wav\t     315.wav    62.wav\t  944.wav\n",
            " 1258.wav   1572.wav   1887.wav   21.wav     250.wav\t     316.wav    630.wav   945.wav\n",
            " 1259.wav   1573.wav   1888.wav   2200.wav   2510.wav\t     317.wav    631.wav   946.wav\n",
            " 125.wav    1574.wav   1889.wav   2201.wav   2511.wav\t     318.wav    632.wav   947.wav\n",
            " 1260.wav   1575.wav   188.wav\t  2202.wav   2512.wav\t     319.wav    633.wav   948.wav\n",
            " 1261.wav   1576.wav   1890.wav   2203.wav   2513.wav\t     31.wav     634.wav   949.wav\n",
            " 1262.wav   1577.wav   1891.wav   2204.wav   2514.wav\t     320.wav    635.wav   94.wav\n",
            " 1263.wav   1578.wav   1892.wav   2205.wav   2515.wav\t     321.wav    636.wav   950.wav\n",
            " 1264.wav   1579.wav   1893.wav   2206.wav   2516.wav\t     322.wav    637.wav   951.wav\n",
            " 1265.wav   157.wav    1894.wav   2207.wav   2517.wav\t     323.wav    638.wav   952.wav\n",
            " 1266.wav   1580.wav   1895.wav   2208.wav   2518.wav\t     324.wav    639.wav   953.wav\n",
            " 1267.wav   1581.wav   1896.wav   2209.wav   2519.wav\t     325.wav    63.wav\t  954.wav\n",
            " 1268.wav   1582.wav   1897.wav   220.wav    251.wav\t     326.wav    640.wav   955.wav\n",
            " 1269.wav   1583.wav   1898.wav   2210.wav   2520.wav\t     327.wav    641.wav   956.wav\n",
            " 126.wav    1584.wav   1899.wav   2211.wav   2521.wav\t     328.wav    642.wav   957.wav\n",
            " 1270.wav   1585.wav   189.wav\t  2212.wav   2522.wav\t     329.wav    643.wav   958.wav\n",
            " 1271.wav   1586.wav   18.wav\t  2213.wav   2523.wav\t     32.wav     644.wav   959.wav\n",
            " 1272.wav   1587.wav   1900.wav   2214.wav   2524.wav\t     330.wav    645.wav   95.wav\n",
            " 1273.wav   1588.wav   1901.wav   2215.wav   2525.wav\t     331.wav    646.wav   960.wav\n",
            " 1274.wav   1589.wav   1902.wav   2216.wav   2526.wav\t     332.wav    647.wav   961.wav\n",
            " 1275.wav   158.wav    1903.wav   2217.wav   2527.wav\t     333.wav    648.wav   962.wav\n",
            " 1276.wav   1590.wav   1904.wav   2218.wav   2528.wav\t     334.wav    649.wav   963.wav\n",
            " 1277.wav   1591.wav   1905.wav   2219.wav   2529.wav\t     335.wav    64.wav\t  964.wav\n",
            " 1278.wav   1592.wav   1906.wav   221.wav    252.wav\t     336.wav    650.wav   965.wav\n",
            " 1279.wav   1593.wav   1907.wav   2220.wav   2530.wav\t     337.wav    651.wav   966.wav\n",
            " 127.wav    1594.wav   1908.wav   2221.wav   2531.wav\t     338.wav    652.wav   967.wav\n",
            " 1280.wav   1595.wav   1909.wav   2222.wav   2532.wav\t     339.wav    653.wav   968.wav\n",
            " 1281.wav   1596.wav   190.wav\t  2223.wav   2533.wav\t     33.wav     654.wav   969.wav\n",
            " 1282.wav   1597.wav   1910.wav   2224.wav   2534.wav\t     340.wav    655.wav   96.wav\n",
            " 1283.wav   1598.wav   1911.wav   2225.wav   2535.wav\t     341.wav    656.wav   970.wav\n",
            " 1284.wav   1599.wav   1912.wav   2226.wav   2536.wav\t     342.wav    657.wav   971.wav\n",
            " 1285.wav   159.wav    1913.wav   2227.wav   2537.wav\t     343.wav    658.wav   972.wav\n",
            " 1286.wav   15.wav     1914.wav   2228.wav   2538.wav\t     344.wav    659.wav   973.wav\n",
            " 1287.wav   1600.wav   1915.wav   2229.wav   2539.wav\t     345.wav    65.wav\t  974.wav\n",
            " 1288.wav   1601.wav   1916.wav   222.wav    253.wav\t     346.wav    660.wav   975.wav\n",
            " 1289.wav   1602.wav   1917.wav   2230.wav   2540.wav\t     347.wav    661.wav   976.wav\n",
            " 128.wav    1603.wav   1918.wav   2231.wav   2541.wav\t     348.wav    662.wav   977.wav\n",
            " 1290.wav   1604.wav   1919.wav   2232.wav   2542.wav\t     349.wav    663.wav   978.wav\n",
            " 1291.wav   1605.wav   191.wav\t  2233.wav   2543.wav\t     34.wav     664.wav   979.wav\n",
            " 1292.wav   1606.wav   1920.wav   2234.wav   2544.wav\t     350.wav    665.wav   97.wav\n",
            " 1293.wav   1607.wav   1921.wav   2235.wav   2545.wav\t     351.wav    666.wav   980.wav\n",
            " 1294.wav   1608.wav   1922.wav   2236.wav   2546.wav\t     352.wav    667.wav   981.wav\n",
            " 1295.wav   1609.wav   1923.wav   2237.wav   2547.wav\t     353.wav    668.wav   982.wav\n",
            " 1296.wav   160.wav    1924.wav   2238.wav   2548.wav\t     354.wav    669.wav   983.wav\n",
            " 1297.wav   1610.wav   1925.wav   2239.wav   2549.wav\t     355.wav    66.wav\t  984.wav\n",
            " 1298.wav   1611.wav   1926.wav   223.wav    254.wav\t     356.wav    670.wav   985.wav\n",
            " 1299.wav   1612.wav   1927.wav   2240.wav   2550.wav\t     357.wav    671.wav   986.wav\n",
            " 129.wav    1613.wav   1928.wav   2241.wav   2551.wav\t     358.wav    672.wav   987.wav\n",
            " 12.wav     1614.wav   1929.wav   2242.wav   2552.wav\t     359.wav    673.wav   988.wav\n",
            " 1300.wav   1615.wav   192.wav\t  2243.wav   2553.wav\t     35.wav     674.wav   989.wav\n",
            " 1301.wav   1616.wav   1930.wav   2244.wav   2554.wav\t     360.wav    675.wav   98.wav\n",
            " 1302.wav   1617.wav   1931.wav   2245.wav   2555.wav\t     361.wav    676.wav   990.wav\n",
            " 1303.wav   1618.wav   1932.wav   2246.wav   2556.wav\t     362.wav    677.wav   991.wav\n",
            " 1304.wav   1619.wav   1933.wav   2247.wav   2557.wav\t     363.wav    678.wav   992.wav\n",
            " 1305.wav   161.wav    1934.wav   2248.wav   2558.wav\t     364.wav    679.wav   993.wav\n",
            " 1306.wav   1620.wav   1935.wav   2249.wav   2559.wav\t     365.wav    67.wav\t  994.wav\n",
            " 1307.wav   1621.wav   1936.wav   224.wav    255.wav\t     366.wav    680.wav   995.wav\n",
            " 1308.wav   1622.wav   1937.wav   2250.wav   2560.wav\t     367.wav    681.wav   996.wav\n",
            " 1309.wav   1623.wav   1938.wav   2251.wav   2561.wav\t     368.wav    682.wav   997.wav\n",
            " 130.wav    1624.wav   1939.wav   2252.wav   2562.wav\t     369.wav    683.wav   998.wav\n",
            " 1310.wav   1625.wav   193.wav\t  2253.wav   2563.wav\t     36.wav     684.wav   999.wav\n",
            " 1311.wav   1626.wav   1940.wav   2254.wav   2564.wav\t     370.wav    685.wav   99.wav\n",
            " 1312.wav   1627.wav   1941.wav   2255.wav   2565.wav\t     371.wav    686.wav   9.wav\n",
            " 1313.wav   1628.wav   1942.wav   2256.wav   2566.wav\t     372.wav    687.wav\n",
            " 1314.wav   1629.wav   1943.wav   2257.wav   2567.wav\t     373.wav    688.wav\n"
          ]
        }
      ]
    },
    {
      "cell_type": "code",
      "source": [
        "with open(\"/content/drive/MyDrive/dataset_ro/list.txt\", \"r\", encoding=\"utf-8\") as f:\n",
        "    lines = f.readlines()\n",
        "\n",
        "for i, line in enumerate(lines[:10]):  # Afișează primele 10 linii pentru verificare\n",
        "    print(f\"Linia {i+1}: {repr(line)}\")"
      ],
      "metadata": {
        "collapsed": true,
        "id": "k-FZCWiIclTu",
        "outputId": "fd72a62e-09b2-4993-e6a4-c5a25a63153f",
        "colab": {
          "base_uri": "https://localhost:8080/"
        }
      },
      "id": "k-FZCWiIclTu",
      "execution_count": 124,
      "outputs": [
        {
          "output_type": "stream",
          "name": "stdout",
          "text": [
            "Linia 1: '/content/drive/MyDrive/dataset_ro/wavs/1.wav|vă mulțumesc din nou pentru sprijin|va multumesc din nou pentru sprijin\\n'\n",
            "Linia 2: '/content/drive/MyDrive/dataset_ro/wavs/2.wav|parlamentul a făcuto la acest nivel|parlamentul a facuto la acest nivel\\n'\n",
            "Linia 3: '/content/drive/MyDrive/dataset_ro/wavs/3.wav|cred că este nevoie de mai mult dialog|cred ca este nevoie de mai mult dialog\\n'\n",
            "Linia 4: '/content/drive/MyDrive/dataset_ro/wavs/4.wav|ion tirinescu deține funcția de șef al poliției rutiere hunedoara|ion tirinescu detine functia de sef al politiei rutiere hunedoara\\n'\n",
            "Linia 5: '/content/drive/MyDrive/dataset_ro/wavs/5.wav|este important să evităm alte cazuri ca acesta|este important sa evitam alte cazuri ca acesta\\n'\n",
            "Linia 6: '/content/drive/MyDrive/dataset_ro/wavs/6.wav|suntem cel mai mare investitor din această regiune|suntem cel mai mare investitor din aceasta regiune\\n'\n",
            "Linia 7: '/content/drive/MyDrive/dataset_ro/wavs/7.wav|prin urmare este o situație dificilă|prin urmare este o situatie dificila\\n'\n",
            "Linia 8: '/content/drive/MyDrive/dataset_ro/wavs/8.wav|nu trebuie să ne gândim la așa ceva|nu trebuie sa ne gandim la asa ceva\\n'\n",
            "Linia 9: '/content/drive/MyDrive/dataset_ro/wavs/9.wav|trebuie să ținem minte lucrul acesta|trebuie sa tinem minte lucrul acesta\\n'\n",
            "Linia 10: '/content/drive/MyDrive/dataset_ro/wavs/10.wav|nu există o soluție unică a problemei migrației|nu exista o solutie unica a problemei migratiei\\n'\n"
          ]
        }
      ]
    },
    {
      "cell_type": "code",
      "execution_count": null,
      "id": "d4c07f99-3d1d-4bea-801e-9f33bbff0e9f",
      "metadata": {
        "colab": {
          "base_uri": "https://localhost:8080/"
        },
        "collapsed": true,
        "id": "d4c07f99-3d1d-4bea-801e-9f33bbff0e9f",
        "outputId": "3a20feba-bdd6-4913-9938-efc29d7e7d96"
      },
      "outputs": [
        {
          "output_type": "stream",
          "name": "stderr",
          "text": [
            "\n",
            "\u001b[4m\u001b[1m > EPOCH: 0/100\u001b[0m\n",
            " --> tts_train_dir/run-February-18-2025_02+58PM-0000000\n"
          ]
        },
        {
          "output_type": "stream",
          "name": "stdout",
          "text": [
            "[*] Pre-computing phonemes...\n"
          ]
        },
        {
          "output_type": "stream",
          "name": "stderr",
          "text": [
            "100%|██████████| 2758/2758 [00:37<00:00, 73.07it/s]\n"
          ]
        },
        {
          "output_type": "stream",
          "name": "stdout",
          "text": [
            "\n",
            "\n",
            "> DataLoader initialization\n",
            "| > Tokenizer:\n",
            "\t| > add_blank: False\n",
            "\t| > use_eos_bos: False\n",
            "\t| > use_phonemes: True\n",
            "\t| > phonemizer:\n",
            "\t\t| > phoneme language: ro\n",
            "\t\t| > phoneme backend: espeak\n",
            "| > Number of instances : 2758\n"
          ]
        },
        {
          "output_type": "stream",
          "name": "stderr",
          "text": [
            "/usr/local/lib/python3.11/dist-packages/torch/utils/data/dataloader.py:617: UserWarning: This DataLoader will create 4 worker processes in total. Our suggested max number of worker in current system is 2, which is smaller than what this DataLoader is going to create. Please be aware that excessive worker creation might get DataLoader running slow or even freeze, lower the worker number to avoid potential slowness/freeze if necessary.\n",
            "  warnings.warn(\n",
            "\n",
            "\u001b[1m > TRAINING (2025-02-18 15:01:34) \u001b[0m\n"
          ]
        },
        {
          "output_type": "stream",
          "name": "stdout",
          "text": [
            " | > Preprocessing samples\n",
            " | > Max text length: 97\n",
            " | > Min text length: 18\n",
            " | > Avg text length: 44.04894851341552\n",
            " | \n",
            " | > Max audio length: 171483.0\n",
            " | > Min audio length: 44475.0\n",
            " | > Avg audio length: 86607.86656997824\n",
            " | > Num. instances discarded samples: 0\n",
            " | > Batch group size: 0.\n"
          ]
        },
        {
          "output_type": "stream",
          "name": "stderr",
          "text": [
            "\n",
            "\u001b[1m   --> TIME: 2025-02-18 15:01:48 -- STEP: 0/173 -- GLOBAL_STEP: 0\u001b[0m\n",
            "     | > current_lr: 2.5e-07 \n",
            "     | > step_time: 2.9156  (2.915602922439575)\n",
            "     | > loader_time: 11.1167  (11.116697788238525)\n",
            "\n",
            " [!] `train_step()` retuned `None` outputs. Skipping training step.\n",
            " [!] `train_step()` retuned `None` outputs. Skipping training step.\n",
            " [!] `train_step()` retuned `None` outputs. Skipping training step.\n",
            " [!] `train_step()` retuned `None` outputs. Skipping training step.\n",
            " [!] `train_step()` retuned `None` outputs. Skipping training step.\n",
            " [!] `train_step()` retuned `None` outputs. Skipping training step.\n",
            " [!] `train_step()` retuned `None` outputs. Skipping training step.\n",
            " [!] `train_step()` retuned `None` outputs. Skipping training step.\n",
            " [!] `train_step()` retuned `None` outputs. Skipping training step.\n",
            " [!] `train_step()` retuned `None` outputs. Skipping training step.\n",
            "/usr/local/lib/python3.11/dist-packages/TTS/tts/models/glow_tts.py:415: FutureWarning: `torch.cuda.amp.autocast(args...)` is deprecated. Please use `torch.amp.autocast('cuda', args...)` instead.\n",
            "  with autocast(enabled=False):  # avoid mixed_precision in criterion\n",
            "\n",
            "\u001b[1m   --> TIME: 2025-02-18 15:02:32 -- STEP: 25/173 -- GLOBAL_STEP: 25\u001b[0m\n",
            "     | > loss: 2.9536328315734863  (2.8194138526916506)\n",
            "     | > log_mle: 0.7432007789611816  (0.735338318347931)\n",
            "     | > loss_dur: 2.2104320526123047  (2.0840755542119345)\n",
            "     | > amp_scaler: 16384.0  (16384.0)\n",
            "     | > grad_norm: tensor(8.2934, device='cuda:0')  (tensor(7.4628, device='cuda:0'))\n",
            "     | > current_lr: 2.5e-07 \n",
            "     | > step_time: 0.2704  (0.3278053379058838)\n",
            "     | > loader_time: 0.0022  (9.01783061027527)\n",
            "\n",
            "\n",
            "\u001b[1m   --> TIME: 2025-02-18 15:03:24 -- STEP: 50/173 -- GLOBAL_STEP: 50\u001b[0m\n",
            "     | > loss: 2.6553783416748047  (2.8317491769790655)\n",
            "     | > log_mle: 0.6589277386665344  (0.7291561648249627)\n",
            "     | > loss_dur: 1.9964505434036255  (2.1025930136442184)\n",
            "     | > amp_scaler: 16384.0  (16384.0)\n",
            "     | > grad_norm: tensor(7.9276, device='cuda:0')  (tensor(7.8725, device='cuda:0'))\n",
            "     | > current_lr: 2.5e-07 \n",
            "     | > step_time: 0.2799  (0.34220890522003183)\n",
            "     | > loader_time: 4.3533  (5.370900707244873)\n",
            "\n",
            "\n",
            "\u001b[1m   --> TIME: 2025-02-18 15:04:11 -- STEP: 75/173 -- GLOBAL_STEP: 75\u001b[0m\n",
            "     | > loss: 2.759577512741089  (2.8581710778749905)\n",
            "     | > log_mle: 0.6970390677452087  (0.7276541214722854)\n",
            "     | > loss_dur: 2.0625383853912354  (2.130516954568716)\n",
            "     | > amp_scaler: 16384.0  (16384.0)\n",
            "     | > grad_norm: tensor(8.0757, device='cuda:0')  (tensor(8.0110, device='cuda:0'))\n",
            "     | > current_lr: 2.5e-07 \n",
            "     | > step_time: 0.4946  (0.3387013149261475)\n",
            "     | > loader_time: 0.0033  (4.098576676050822)\n",
            "\n",
            "\n",
            "\u001b[1m   --> TIME: 2025-02-18 15:05:05 -- STEP: 100/173 -- GLOBAL_STEP: 100\u001b[0m\n",
            "     | > loss: 2.9452173709869385  (2.8686044692993162)\n",
            "     | > log_mle: 0.7371169924736023  (0.7262439714537726)\n",
            "     | > loss_dur: 2.2081003189086914  (2.1423604898982576)\n",
            "     | > amp_scaler: 16384.0  (16384.0)\n",
            "     | > grad_norm: tensor(8.1360, device='cuda:0')  (tensor(8.0687, device='cuda:0'))\n",
            "     | > current_lr: 2.5e-07 \n",
            "     | > step_time: 0.3032  (0.3419876456260681)\n",
            "     | > loader_time: 4.1323  (3.523881311416626)\n",
            "\n",
            "\n",
            "\u001b[1m   --> TIME: 2025-02-18 15:05:56 -- STEP: 125/173 -- GLOBAL_STEP: 125\u001b[0m\n",
            "     | > loss: 3.0019960403442383  (2.8803746762483016)\n",
            "     | > log_mle: 0.7293471693992615  (0.7220978907916857)\n",
            "     | > loss_dur: 2.272648811340332  (2.158276774572289)\n",
            "     | > amp_scaler: 16384.0  (16384.0)\n",
            "     | > grad_norm: tensor(8.2410, device='cuda:0')  (tensor(8.1211, device='cuda:0'))\n",
            "     | > current_lr: 2.5e-07 \n",
            "     | > step_time: 0.4664  (0.34710801315307616)\n",
            "     | > loader_time: 1.7724  (3.148100254058838)\n",
            "\n"
          ]
        }
      ],
      "source": [
        "trainer.fit()"
      ]
    },
    {
      "cell_type": "markdown",
      "id": "4cff0c40-2734-40a6-a905-e945a9fb3e98",
      "metadata": {
        "id": "4cff0c40-2734-40a6-a905-e945a9fb3e98"
      },
      "source": [
        "#### 🚀 Run the Tensorboard. 🚀\n",
        "On the notebook and Tensorboard, you can monitor the progress of your model. Also Tensorboard provides certain figures and sample outputs."
      ]
    },
    {
      "cell_type": "code",
      "execution_count": null,
      "id": "5a85cd3b-1646-40ad-a6c2-49323e08eeec",
      "metadata": {
        "id": "5a85cd3b-1646-40ad-a6c2-49323e08eeec"
      },
      "outputs": [],
      "source": [
        "!pip install tensorboard\n",
        "!tensorboard --logdir=tts_train_dir"
      ]
    },
    {
      "cell_type": "markdown",
      "id": "9f6dc959",
      "metadata": {
        "id": "9f6dc959"
      },
      "source": [
        "## ✅ Test the model\n",
        "\n",
        "We made it! 🙌\n",
        "\n",
        "Let's kick off the testing run, which displays performance metrics.\n",
        "\n",
        "We're committing the cardinal sin of ML 😈 (aka - testing on our training data) so you don't want to deploy this model into production. In this notebook we're focusing on the workflow itself, so it's forgivable 😇\n",
        "\n",
        "You can see from the test output that our tiny model has overfit to the data, and basically memorized this one sentence.\n",
        "\n",
        "When you start training your own models, make sure your testing data doesn't include your training data 😅"
      ]
    },
    {
      "cell_type": "markdown",
      "id": "99fada7a-592f-4a09-9369-e6f3d82de3a0",
      "metadata": {
        "id": "99fada7a-592f-4a09-9369-e6f3d82de3a0"
      },
      "source": [
        "Let's get the latest saved checkpoint."
      ]
    },
    {
      "cell_type": "code",
      "execution_count": null,
      "id": "6dd47ed5-da8e-4bf9-b524-d686630d6961",
      "metadata": {
        "id": "6dd47ed5-da8e-4bf9-b524-d686630d6961"
      },
      "outputs": [],
      "source": [
        "import glob, os\n",
        "output_path = \"tts_train_dir\"\n",
        "ckpts = sorted([f for f in glob.glob(output_path+\"/*/*.pth\")])\n",
        "configs = sorted([f for f in glob.glob(output_path+\"/*/*.json\")])"
      ]
    },
    {
      "cell_type": "code",
      "execution_count": null,
      "id": "dd42bc7a",
      "metadata": {
        "id": "dd42bc7a"
      },
      "outputs": [],
      "source": [
        " !tts --text \"Text for TTS\" \\\n",
        "      --model_path $test_ckpt \\\n",
        "      --config_path $test_config \\\n",
        "      --out_path out.wav"
      ]
    },
    {
      "cell_type": "markdown",
      "id": "81cbcb3f-d952-469b-a0d8-8941cd7af670",
      "metadata": {
        "id": "81cbcb3f-d952-469b-a0d8-8941cd7af670"
      },
      "source": [
        "## 📣 Listen to the synthesized wave 📣"
      ]
    },
    {
      "cell_type": "code",
      "execution_count": null,
      "id": "e0000bd6-6763-4a10-a74d-911dd08ebcff",
      "metadata": {
        "id": "e0000bd6-6763-4a10-a74d-911dd08ebcff"
      },
      "outputs": [],
      "source": [
        "import IPython\n",
        "IPython.display.Audio(\"out.wav\")"
      ]
    },
    {
      "cell_type": "markdown",
      "id": "13914401-cad1-494a-b701-474e52829138",
      "metadata": {
        "id": "13914401-cad1-494a-b701-474e52829138"
      },
      "source": [
        "## 🎉 Congratulations! 🎉 You now have trained your first TTS model!\n",
        "Follow up with the next tutorials to learn more advanced material."
      ]
    },
    {
      "cell_type": "code",
      "execution_count": null,
      "id": "950d9fc6-896f-4a2c-86fd-8fd1fcbbb3f7",
      "metadata": {
        "id": "950d9fc6-896f-4a2c-86fd-8fd1fcbbb3f7"
      },
      "outputs": [],
      "source": []
    }
  ],
  "metadata": {
    "kernelspec": {
      "display_name": "Python 3",
      "name": "python3"
    },
    "language_info": {
      "codemirror_mode": {
        "name": "ipython",
        "version": 3
      },
      "file_extension": ".py",
      "mimetype": "text/x-python",
      "name": "python",
      "nbconvert_exporter": "python",
      "pygments_lexer": "ipython3",
      "version": "3.8.10"
    },
    "colab": {
      "provenance": [],
      "gpuType": "T4"
    },
    "accelerator": "GPU"
  },
  "nbformat": 4,
  "nbformat_minor": 5
}